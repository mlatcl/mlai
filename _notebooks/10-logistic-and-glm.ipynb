{
 "cells": [
  {
   "cell_type": "markdown",
   "metadata": {},
   "source": [
    "Logistic Regression and GLMs\n",
    "============================\n",
    "\n",
    "### [Neil D. Lawrence](http://inverseprobability.com), University of\n",
    "\n",
    "Cambridge"
   ]
  },
  {
   "cell_type": "markdown",
   "metadata": {},
   "source": [
    "**Abstract**: Naive Bayes assumptions allow us to specify class\n",
    "conditional densities through assuming that the data are conditionally\n",
    "independent given parameters. A logistic regression is an approach to\n",
    "classification which extends the linear basis function models we’ve\n",
    "already explored. Rather than modeling the output of the function\n",
    "directly the assumption is that we model the *log-odds* with the basis\n",
    "functions."
   ]
  },
  {
   "cell_type": "markdown",
   "metadata": {},
   "source": [
    "$$\n",
    "\\newcommand{\\tk}[1]{}\n",
    "%\\newcommand{\\tk}[1]{\\textbf{TK}: #1}\n",
    "\\newcommand{\\Amatrix}{\\mathbf{A}}\n",
    "\\newcommand{\\KL}[2]{\\text{KL}\\left( #1\\,\\|\\,#2 \\right)}\n",
    "\\newcommand{\\Kaast}{\\kernelMatrix_{\\mathbf{ \\ast}\\mathbf{ \\ast}}}\n",
    "\\newcommand{\\Kastu}{\\kernelMatrix_{\\mathbf{ \\ast} \\inducingVector}}\n",
    "\\newcommand{\\Kff}{\\kernelMatrix_{\\mappingFunctionVector \\mappingFunctionVector}}\n",
    "\\newcommand{\\Kfu}{\\kernelMatrix_{\\mappingFunctionVector \\inducingVector}}\n",
    "\\newcommand{\\Kuast}{\\kernelMatrix_{\\inducingVector \\bf\\ast}}\n",
    "\\newcommand{\\Kuf}{\\kernelMatrix_{\\inducingVector \\mappingFunctionVector}}\n",
    "\\newcommand{\\Kuu}{\\kernelMatrix_{\\inducingVector \\inducingVector}}\n",
    "\\newcommand{\\Kuui}{\\Kuu^{-1}}\n",
    "\\newcommand{\\Qaast}{\\mathbf{Q}_{\\bf \\ast \\ast}}\n",
    "\\newcommand{\\Qastf}{\\mathbf{Q}_{\\ast \\mappingFunction}}\n",
    "\\newcommand{\\Qfast}{\\mathbf{Q}_{\\mappingFunctionVector \\bf \\ast}}\n",
    "\\newcommand{\\Qff}{\\mathbf{Q}_{\\mappingFunctionVector \\mappingFunctionVector}}\n",
    "\\newcommand{\\aMatrix}{\\mathbf{A}}\n",
    "\\newcommand{\\aScalar}{a}\n",
    "\\newcommand{\\aVector}{\\mathbf{a}}\n",
    "\\newcommand{\\acceleration}{a}\n",
    "\\newcommand{\\bMatrix}{\\mathbf{B}}\n",
    "\\newcommand{\\bScalar}{b}\n",
    "\\newcommand{\\bVector}{\\mathbf{b}}\n",
    "\\newcommand{\\basisFunc}{\\phi}\n",
    "\\newcommand{\\basisFuncVector}{\\boldsymbol{ \\basisFunc}}\n",
    "\\newcommand{\\basisFunction}{\\phi}\n",
    "\\newcommand{\\basisLocation}{\\mu}\n",
    "\\newcommand{\\basisMatrix}{\\boldsymbol{ \\Phi}}\n",
    "\\newcommand{\\basisScalar}{\\basisFunction}\n",
    "\\newcommand{\\basisVector}{\\boldsymbol{ \\basisFunction}}\n",
    "\\newcommand{\\activationFunction}{\\phi}\n",
    "\\newcommand{\\activationMatrix}{\\boldsymbol{ \\Phi}}\n",
    "\\newcommand{\\activationScalar}{\\basisFunction}\n",
    "\\newcommand{\\activationVector}{\\boldsymbol{ \\basisFunction}}\n",
    "\\newcommand{\\bigO}{\\mathcal{O}}\n",
    "\\newcommand{\\binomProb}{\\pi}\n",
    "\\newcommand{\\cMatrix}{\\mathbf{C}}\n",
    "\\newcommand{\\cbasisMatrix}{\\hat{\\boldsymbol{ \\Phi}}}\n",
    "\\newcommand{\\cdataMatrix}{\\hat{\\dataMatrix}}\n",
    "\\newcommand{\\cdataScalar}{\\hat{\\dataScalar}}\n",
    "\\newcommand{\\cdataVector}{\\hat{\\dataVector}}\n",
    "\\newcommand{\\centeredKernelMatrix}{\\mathbf{ \\MakeUppercase{\\centeredKernelScalar}}}\n",
    "\\newcommand{\\centeredKernelScalar}{b}\n",
    "\\newcommand{\\centeredKernelVector}{\\centeredKernelScalar}\n",
    "\\newcommand{\\centeringMatrix}{\\mathbf{H}}\n",
    "\\newcommand{\\chiSquaredDist}[2]{\\chi_{#1}^{2}\\left(#2\\right)}\n",
    "\\newcommand{\\chiSquaredSamp}[1]{\\chi_{#1}^{2}}\n",
    "\\newcommand{\\conditionalCovariance}{\\boldsymbol{ \\Sigma}}\n",
    "\\newcommand{\\coregionalizationMatrix}{\\mathbf{B}}\n",
    "\\newcommand{\\coregionalizationScalar}{b}\n",
    "\\newcommand{\\coregionalizationVector}{\\mathbf{ \\coregionalizationScalar}}\n",
    "\\newcommand{\\covDist}[2]{\\text{cov}_{#2}\\left(#1\\right)}\n",
    "\\newcommand{\\covSamp}[1]{\\text{cov}\\left(#1\\right)}\n",
    "\\newcommand{\\covarianceScalar}{c}\n",
    "\\newcommand{\\covarianceVector}{\\mathbf{ \\covarianceScalar}}\n",
    "\\newcommand{\\covarianceMatrix}{\\mathbf{C}}\n",
    "\\newcommand{\\covarianceMatrixTwo}{\\boldsymbol{ \\Sigma}}\n",
    "\\newcommand{\\croupierScalar}{s}\n",
    "\\newcommand{\\croupierVector}{\\mathbf{ \\croupierScalar}}\n",
    "\\newcommand{\\croupierMatrix}{\\mathbf{ \\MakeUppercase{\\croupierScalar}}}\n",
    "\\newcommand{\\dataDim}{p}\n",
    "\\newcommand{\\dataIndex}{i}\n",
    "\\newcommand{\\dataIndexTwo}{j}\n",
    "\\newcommand{\\dataMatrix}{\\mathbf{Y}}\n",
    "\\newcommand{\\dataScalar}{y}\n",
    "\\newcommand{\\dataSet}{\\mathcal{D}}\n",
    "\\newcommand{\\dataStd}{\\sigma}\n",
    "\\newcommand{\\dataVector}{\\mathbf{ \\dataScalar}}\n",
    "\\newcommand{\\decayRate}{d}\n",
    "\\newcommand{\\degreeMatrix}{\\mathbf{ \\MakeUppercase{\\degreeScalar}}}\n",
    "\\newcommand{\\degreeScalar}{d}\n",
    "\\newcommand{\\degreeVector}{\\mathbf{ \\degreeScalar}}\n",
    "% Already defined by latex\n",
    "%\\newcommand{\\det}[1]{\\left|#1\\right|}\n",
    "\\newcommand{\\diag}[1]{\\text{diag}\\left(#1\\right)}\n",
    "\\newcommand{\\diagonalMatrix}{\\mathbf{D}}\n",
    "\\newcommand{\\diff}[2]{\\frac{\\text{d}#1}{\\text{d}#2}}\n",
    "\\newcommand{\\diffTwo}[2]{\\frac{\\text{d}^2#1}{\\text{d}#2^2}}\n",
    "\\newcommand{\\displacement}{x}\n",
    "\\newcommand{\\displacementVector}{\\textbf{\\displacement}}\n",
    "\\newcommand{\\distanceMatrix}{\\mathbf{ \\MakeUppercase{\\distanceScalar}}}\n",
    "\\newcommand{\\distanceScalar}{d}\n",
    "\\newcommand{\\distanceVector}{\\mathbf{ \\distanceScalar}}\n",
    "\\newcommand{\\eigenvaltwo}{\\ell}\n",
    "\\newcommand{\\eigenvaltwoMatrix}{\\mathbf{L}}\n",
    "\\newcommand{\\eigenvaltwoVector}{\\mathbf{l}}\n",
    "\\newcommand{\\eigenvalue}{\\lambda}\n",
    "\\newcommand{\\eigenvalueMatrix}{\\boldsymbol{ \\Lambda}}\n",
    "\\newcommand{\\eigenvalueVector}{\\boldsymbol{ \\lambda}}\n",
    "\\newcommand{\\eigenvector}{\\mathbf{ \\eigenvectorScalar}}\n",
    "\\newcommand{\\eigenvectorMatrix}{\\mathbf{U}}\n",
    "\\newcommand{\\eigenvectorScalar}{u}\n",
    "\\newcommand{\\eigenvectwo}{\\mathbf{v}}\n",
    "\\newcommand{\\eigenvectwoMatrix}{\\mathbf{V}}\n",
    "\\newcommand{\\eigenvectwoScalar}{v}\n",
    "\\newcommand{\\entropy}[1]{\\mathcal{H}\\left(#1\\right)}\n",
    "\\newcommand{\\errorFunction}{E}\n",
    "\\newcommand{\\expDist}[2]{\\left<#1\\right>_{#2}}\n",
    "\\newcommand{\\expSamp}[1]{\\left<#1\\right>}\n",
    "\\newcommand{\\expectation}[1]{\\left\\langle #1 \\right\\rangle }\n",
    "\\newcommand{\\expectationDist}[2]{\\left\\langle #1 \\right\\rangle _{#2}}\n",
    "\\newcommand{\\expectedDistanceMatrix}{\\mathcal{D}}\n",
    "\\newcommand{\\eye}{\\mathbf{I}}\n",
    "\\newcommand{\\fantasyDim}{r}\n",
    "\\newcommand{\\fantasyMatrix}{\\mathbf{ \\MakeUppercase{\\fantasyScalar}}}\n",
    "\\newcommand{\\fantasyScalar}{z}\n",
    "\\newcommand{\\fantasyVector}{\\mathbf{ \\fantasyScalar}}\n",
    "\\newcommand{\\featureStd}{\\varsigma}\n",
    "\\newcommand{\\gammaCdf}[3]{\\mathcal{GAMMA CDF}\\left(#1|#2,#3\\right)}\n",
    "\\newcommand{\\gammaDist}[3]{\\mathcal{G}\\left(#1|#2,#3\\right)}\n",
    "\\newcommand{\\gammaSamp}[2]{\\mathcal{G}\\left(#1,#2\\right)}\n",
    "\\newcommand{\\gaussianDist}[3]{\\mathcal{N}\\left(#1|#2,#3\\right)}\n",
    "\\newcommand{\\gaussianSamp}[2]{\\mathcal{N}\\left(#1,#2\\right)}\n",
    "\\newcommand{\\given}{|}\n",
    "\\newcommand{\\half}{\\frac{1}{2}}\n",
    "\\newcommand{\\heaviside}{H}\n",
    "\\newcommand{\\hiddenMatrix}{\\mathbf{ \\MakeUppercase{\\hiddenScalar}}}\n",
    "\\newcommand{\\hiddenScalar}{h}\n",
    "\\newcommand{\\hiddenVector}{\\mathbf{ \\hiddenScalar}}\n",
    "\\newcommand{\\identityMatrix}{\\eye}\n",
    "\\newcommand{\\inducingInputScalar}{z}\n",
    "\\newcommand{\\inducingInputVector}{\\mathbf{ \\inducingInputScalar}}\n",
    "\\newcommand{\\inducingInputMatrix}{\\mathbf{Z}}\n",
    "\\newcommand{\\inducingScalar}{u}\n",
    "\\newcommand{\\inducingVector}{\\mathbf{ \\inducingScalar}}\n",
    "\\newcommand{\\inducingMatrix}{\\mathbf{U}}\n",
    "\\newcommand{\\inlineDiff}[2]{\\text{d}#1/\\text{d}#2}\n",
    "\\newcommand{\\inputDim}{q}\n",
    "\\newcommand{\\inputMatrix}{\\mathbf{X}}\n",
    "\\newcommand{\\inputScalar}{x}\n",
    "\\newcommand{\\inputSpace}{\\mathcal{X}}\n",
    "\\newcommand{\\inputVals}{\\inputVector}\n",
    "\\newcommand{\\inputVector}{\\mathbf{ \\inputScalar}}\n",
    "\\newcommand{\\iterNum}{k}\n",
    "\\newcommand{\\kernel}{\\kernelScalar}\n",
    "\\newcommand{\\kernelMatrix}{\\mathbf{K}}\n",
    "\\newcommand{\\kernelScalar}{k}\n",
    "\\newcommand{\\kernelVector}{\\mathbf{ \\kernelScalar}}\n",
    "\\newcommand{\\kff}{\\kernelScalar_{\\mappingFunction \\mappingFunction}}\n",
    "\\newcommand{\\kfu}{\\kernelVector_{\\mappingFunction \\inducingScalar}}\n",
    "\\newcommand{\\kuf}{\\kernelVector_{\\inducingScalar \\mappingFunction}}\n",
    "\\newcommand{\\kuu}{\\kernelVector_{\\inducingScalar \\inducingScalar}}\n",
    "\\newcommand{\\lagrangeMultiplier}{\\lambda}\n",
    "\\newcommand{\\lagrangeMultiplierMatrix}{\\boldsymbol{ \\Lambda}}\n",
    "\\newcommand{\\lagrangian}{L}\n",
    "\\newcommand{\\laplacianFactor}{\\mathbf{ \\MakeUppercase{\\laplacianFactorScalar}}}\n",
    "\\newcommand{\\laplacianFactorScalar}{m}\n",
    "\\newcommand{\\laplacianFactorVector}{\\mathbf{ \\laplacianFactorScalar}}\n",
    "\\newcommand{\\laplacianMatrix}{\\mathbf{L}}\n",
    "\\newcommand{\\laplacianScalar}{\\ell}\n",
    "\\newcommand{\\laplacianVector}{\\mathbf{ \\ell}}\n",
    "\\newcommand{\\latentDim}{q}\n",
    "\\newcommand{\\latentDistanceMatrix}{\\boldsymbol{ \\Delta}}\n",
    "\\newcommand{\\latentDistanceScalar}{\\delta}\n",
    "\\newcommand{\\latentDistanceVector}{\\boldsymbol{ \\delta}}\n",
    "\\newcommand{\\latentForce}{f}\n",
    "\\newcommand{\\latentFunction}{u}\n",
    "\\newcommand{\\latentFunctionVector}{\\mathbf{ \\latentFunction}}\n",
    "\\newcommand{\\latentFunctionMatrix}{\\mathbf{ \\MakeUppercase{\\latentFunction}}}\n",
    "\\newcommand{\\latentIndex}{j}\n",
    "\\newcommand{\\latentScalar}{z}\n",
    "\\newcommand{\\latentVector}{\\mathbf{ \\latentScalar}}\n",
    "\\newcommand{\\latentMatrix}{\\mathbf{Z}}\n",
    "\\newcommand{\\learnRate}{\\eta}\n",
    "\\newcommand{\\lengthScale}{\\ell}\n",
    "\\newcommand{\\rbfWidth}{\\ell}\n",
    "\\newcommand{\\likelihoodBound}{\\mathcal{L}}\n",
    "\\newcommand{\\likelihoodFunction}{L}\n",
    "\\newcommand{\\locationScalar}{\\mu}\n",
    "\\newcommand{\\locationVector}{\\boldsymbol{ \\locationScalar}}\n",
    "\\newcommand{\\locationMatrix}{\\mathbf{M}}\n",
    "\\newcommand{\\variance}[1]{\\text{var}\\left( #1 \\right)}\n",
    "\\newcommand{\\mappingFunction}{f}\n",
    "\\newcommand{\\mappingFunctionMatrix}{\\mathbf{F}}\n",
    "\\newcommand{\\mappingFunctionTwo}{g}\n",
    "\\newcommand{\\mappingFunctionTwoMatrix}{\\mathbf{G}}\n",
    "\\newcommand{\\mappingFunctionTwoVector}{\\mathbf{ \\mappingFunctionTwo}}\n",
    "\\newcommand{\\mappingFunctionVector}{\\mathbf{ \\mappingFunction}}\n",
    "\\newcommand{\\scaleScalar}{s}\n",
    "\\newcommand{\\mappingScalar}{w}\n",
    "\\newcommand{\\mappingVector}{\\mathbf{ \\mappingScalar}}\n",
    "\\newcommand{\\mappingMatrix}{\\mathbf{W}}\n",
    "\\newcommand{\\mappingScalarTwo}{v}\n",
    "\\newcommand{\\mappingVectorTwo}{\\mathbf{ \\mappingScalarTwo}}\n",
    "\\newcommand{\\mappingMatrixTwo}{\\mathbf{V}}\n",
    "\\newcommand{\\maxIters}{K}\n",
    "\\newcommand{\\meanMatrix}{\\mathbf{M}}\n",
    "\\newcommand{\\meanScalar}{\\mu}\n",
    "\\newcommand{\\meanTwoMatrix}{\\mathbf{M}}\n",
    "\\newcommand{\\meanTwoScalar}{m}\n",
    "\\newcommand{\\meanTwoVector}{\\mathbf{ \\meanTwoScalar}}\n",
    "\\newcommand{\\meanVector}{\\boldsymbol{ \\meanScalar}}\n",
    "\\newcommand{\\mrnaConcentration}{m}\n",
    "\\newcommand{\\naturalFrequency}{\\omega}\n",
    "\\newcommand{\\neighborhood}[1]{\\mathcal{N}\\left( #1 \\right)}\n",
    "\\newcommand{\\neilurl}{http://inverseprobability.com/}\n",
    "\\newcommand{\\noiseMatrix}{\\boldsymbol{ E}}\n",
    "\\newcommand{\\noiseScalar}{\\epsilon}\n",
    "\\newcommand{\\noiseVector}{\\boldsymbol{ \\epsilon}}\n",
    "\\newcommand{\\norm}[1]{\\left\\Vert #1 \\right\\Vert}\n",
    "\\newcommand{\\normalizedLaplacianMatrix}{\\hat{\\mathbf{L}}}\n",
    "\\newcommand{\\normalizedLaplacianScalar}{\\hat{\\ell}}\n",
    "\\newcommand{\\normalizedLaplacianVector}{\\hat{\\mathbf{ \\ell}}}\n",
    "\\newcommand{\\numActive}{m}\n",
    "\\newcommand{\\numBasisFunc}{m}\n",
    "\\newcommand{\\numComponents}{m}\n",
    "\\newcommand{\\numComps}{K}\n",
    "\\newcommand{\\numData}{n}\n",
    "\\newcommand{\\numFeatures}{K}\n",
    "\\newcommand{\\numHidden}{h}\n",
    "\\newcommand{\\numInducing}{m}\n",
    "\\newcommand{\\numLayers}{\\ell}\n",
    "\\newcommand{\\numNeighbors}{K}\n",
    "\\newcommand{\\numSequences}{s}\n",
    "\\newcommand{\\numSuccess}{s}\n",
    "\\newcommand{\\numTasks}{m}\n",
    "\\newcommand{\\numTime}{T}\n",
    "\\newcommand{\\numTrials}{S}\n",
    "\\newcommand{\\outputIndex}{j}\n",
    "\\newcommand{\\paramVector}{\\boldsymbol{ \\theta}}\n",
    "\\newcommand{\\parameterMatrix}{\\boldsymbol{ \\Theta}}\n",
    "\\newcommand{\\parameterScalar}{\\theta}\n",
    "\\newcommand{\\parameterVector}{\\boldsymbol{ \\parameterScalar}}\n",
    "\\newcommand{\\partDiff}[2]{\\frac{\\partial#1}{\\partial#2}}\n",
    "\\newcommand{\\precisionScalar}{j}\n",
    "\\newcommand{\\precisionVector}{\\mathbf{ \\precisionScalar}}\n",
    "\\newcommand{\\precisionMatrix}{\\mathbf{J}}\n",
    "\\newcommand{\\pseudotargetScalar}{\\widetilde{y}}\n",
    "\\newcommand{\\pseudotargetVector}{\\mathbf{ \\pseudotargetScalar}}\n",
    "\\newcommand{\\pseudotargetMatrix}{\\mathbf{ \\widetilde{Y}}}\n",
    "\\newcommand{\\rank}[1]{\\text{rank}\\left(#1\\right)}\n",
    "\\newcommand{\\rayleighDist}[2]{\\mathcal{R}\\left(#1|#2\\right)}\n",
    "\\newcommand{\\rayleighSamp}[1]{\\mathcal{R}\\left(#1\\right)}\n",
    "\\newcommand{\\responsibility}{r}\n",
    "\\newcommand{\\rotationScalar}{r}\n",
    "\\newcommand{\\rotationVector}{\\mathbf{ \\rotationScalar}}\n",
    "\\newcommand{\\rotationMatrix}{\\mathbf{R}}\n",
    "\\newcommand{\\sampleCovScalar}{s}\n",
    "\\newcommand{\\sampleCovVector}{\\mathbf{ \\sampleCovScalar}}\n",
    "\\newcommand{\\sampleCovMatrix}{\\mathbf{s}}\n",
    "\\newcommand{\\scalarProduct}[2]{\\left\\langle{#1},{#2}\\right\\rangle}\n",
    "\\newcommand{\\sign}[1]{\\text{sign}\\left(#1\\right)}\n",
    "\\newcommand{\\sigmoid}[1]{\\sigma\\left(#1\\right)}\n",
    "\\newcommand{\\singularvalue}{\\ell}\n",
    "\\newcommand{\\singularvalueMatrix}{\\mathbf{L}}\n",
    "\\newcommand{\\singularvalueVector}{\\mathbf{l}}\n",
    "\\newcommand{\\sorth}{\\mathbf{u}}\n",
    "\\newcommand{\\spar}{\\lambda}\n",
    "\\newcommand{\\trace}[1]{\\text{tr}\\left(#1\\right)}\n",
    "\\newcommand{\\BasalRate}{B}\n",
    "\\newcommand{\\DampingCoefficient}{C}\n",
    "\\newcommand{\\DecayRate}{D}\n",
    "\\newcommand{\\Displacement}{X}\n",
    "\\newcommand{\\LatentForce}{F}\n",
    "\\newcommand{\\Mass}{M}\n",
    "\\newcommand{\\Sensitivity}{S}\n",
    "\\newcommand{\\basalRate}{b}\n",
    "\\newcommand{\\dampingCoefficient}{c}\n",
    "\\newcommand{\\mass}{m}\n",
    "\\newcommand{\\sensitivity}{s}\n",
    "\\newcommand{\\springScalar}{\\kappa}\n",
    "\\newcommand{\\springVector}{\\boldsymbol{ \\kappa}}\n",
    "\\newcommand{\\springMatrix}{\\boldsymbol{ \\mathcal{K}}}\n",
    "\\newcommand{\\tfConcentration}{p}\n",
    "\\newcommand{\\tfDecayRate}{\\delta}\n",
    "\\newcommand{\\tfMrnaConcentration}{f}\n",
    "\\newcommand{\\tfVector}{\\mathbf{ \\tfConcentration}}\n",
    "\\newcommand{\\velocity}{v}\n",
    "\\newcommand{\\sufficientStatsScalar}{g}\n",
    "\\newcommand{\\sufficientStatsVector}{\\mathbf{ \\sufficientStatsScalar}}\n",
    "\\newcommand{\\sufficientStatsMatrix}{\\mathbf{G}}\n",
    "\\newcommand{\\switchScalar}{s}\n",
    "\\newcommand{\\switchVector}{\\mathbf{ \\switchScalar}}\n",
    "\\newcommand{\\switchMatrix}{\\mathbf{S}}\n",
    "\\newcommand{\\tr}[1]{\\text{tr}\\left(#1\\right)}\n",
    "\\newcommand{\\loneNorm}[1]{\\left\\Vert #1 \\right\\Vert_1}\n",
    "\\newcommand{\\ltwoNorm}[1]{\\left\\Vert #1 \\right\\Vert_2}\n",
    "\\newcommand{\\onenorm}[1]{\\left\\vert#1\\right\\vert_1}\n",
    "\\newcommand{\\twonorm}[1]{\\left\\Vert #1 \\right\\Vert}\n",
    "\\newcommand{\\vScalar}{v}\n",
    "\\newcommand{\\vVector}{\\mathbf{v}}\n",
    "\\newcommand{\\vMatrix}{\\mathbf{V}}\n",
    "\\newcommand{\\varianceDist}[2]{\\text{var}_{#2}\\left( #1 \\right)}\n",
    "% Already defined by latex\n",
    "%\\newcommand{\\vec}{#1:}\n",
    "\\newcommand{\\vecb}[1]{\\left(#1\\right):}\n",
    "\\newcommand{\\weightScalar}{w}\n",
    "\\newcommand{\\weightVector}{\\mathbf{ \\weightScalar}}\n",
    "\\newcommand{\\weightMatrix}{\\mathbf{W}}\n",
    "\\newcommand{\\weightedAdjacencyMatrix}{\\mathbf{A}}\n",
    "\\newcommand{\\weightedAdjacencyScalar}{a}\n",
    "\\newcommand{\\weightedAdjacencyVector}{\\mathbf{ \\weightedAdjacencyScalar}}\n",
    "\\newcommand{\\onesVector}{\\mathbf{1}}\n",
    "\\newcommand{\\zerosVector}{\\mathbf{0}}\n",
    "$$"
   ]
  },
  {
   "cell_type": "markdown",
   "metadata": {},
   "source": [
    "%\n",
    "\n",
    "% Already defined by latex %\n",
    "\n",
    "% Already defined by latex %\n",
    "\n",
    "<!-- Do not edit this file locally. -->\n",
    "<!-- Do not edit this file locally. -->\n",
    "<!---->\n",
    "<!-- Do not edit this file locally. -->\n",
    "<!-- Do not edit this file locally. -->\n",
    "<!-- The last names to be defined. Should be defined entirely in terms of macros from above-->\n",
    "<!--\n",
    "\n",
    "-->"
   ]
  },
  {
   "cell_type": "markdown",
   "metadata": {},
   "source": [
    "Setup\n",
    "-----\n",
    "\n",
    "First we download some libraries and files to support the notebook."
   ]
  },
  {
   "cell_type": "code",
   "execution_count": null,
   "metadata": {},
   "outputs": [],
   "source": [
    "import urllib.request"
   ]
  },
  {
   "cell_type": "code",
   "execution_count": null,
   "metadata": {},
   "outputs": [],
   "source": [
    "urllib.request.urlretrieve('https://raw.githubusercontent.com/lawrennd/talks/gh-pages/mlai.py','mlai.py')"
   ]
  },
  {
   "cell_type": "code",
   "execution_count": null,
   "metadata": {},
   "outputs": [],
   "source": [
    "urllib.request.urlretrieve('https://raw.githubusercontent.com/lawrennd/talks/gh-pages/teaching_plots.py','teaching_plots.py')"
   ]
  },
  {
   "cell_type": "code",
   "execution_count": null,
   "metadata": {},
   "outputs": [],
   "source": [
    "urllib.request.urlretrieve('https://raw.githubusercontent.com/lawrennd/talks/gh-pages/gp_tutorial.py','gp_tutorial.py')"
   ]
  },
  {
   "cell_type": "markdown",
   "metadata": {},
   "source": [
    "pods\n",
    "----\n",
    "\n",
    "In Sheffield we created a suite of software tools for ‘Open Data\n",
    "Science’. Open data science is an approach to sharing code, models and\n",
    "data that should make it easier for companies, health professionals and\n",
    "scientists to gain access to data science techniques.\n",
    "\n",
    "You can also check this blog post on [Open Data\n",
    "Science](http://inverseprobability.com/2014/07/01/open-data-science).\n",
    "\n",
    "The software can be installed using"
   ]
  },
  {
   "cell_type": "code",
   "execution_count": null,
   "metadata": {},
   "outputs": [],
   "source": [
    "%pip install --upgrade git+https://github.com/sods/ods"
   ]
  },
  {
   "cell_type": "markdown",
   "metadata": {},
   "source": [
    "from the command prompt where you can access your python installation.\n",
    "\n",
    "The code is also available on github:\n",
    "<a href=\"https://github.com/sods/ods\" class=\"uri\">https://github.com/sods/ods</a>\n",
    "\n",
    "Once `pods` is installed, it can be imported in the usual manner."
   ]
  },
  {
   "cell_type": "code",
   "execution_count": null,
   "metadata": {},
   "outputs": [],
   "source": [
    "import pods"
   ]
  },
  {
   "cell_type": "markdown",
   "metadata": {},
   "source": [
    "Review\n",
    "------\n",
    "\n",
    "The allowed us to specify a class conditional density,\n",
    "$p(\\mathbf{ x}_i|y_i, \\boldsymbol{ \\theta})$, through assuming that the\n",
    "features were conditionally independent given the label. Combined with\n",
    "our assumption that the data points are conditionally independent given\n",
    "the parameters, $\\boldsymbol{ \\theta}$, this allowed us to specify a\n",
    "joint density over the entire data set, $p(\\mathbf{ y}, \\mathbf{X})$. We\n",
    "argued that modeling the joint density is a powerful approach because we\n",
    "can answer any particular question we have about the data through the\n",
    "sum rule and the product rule of probability. We can condition on the\n",
    "training data and query the value of an unseen test point. If we have\n",
    "missing data, then we can integrate over the missing point (marginalise)\n",
    "and obtain our best prediction despite the absence of some of the\n",
    "features for a point. However, it comes at the cost of a particular\n",
    "modeling assumption. Namely, to make modeling practical we assumed that\n",
    "the features were conditionally independent given the feature label. In\n",
    "other words, for any given point, if we know its class, then its\n",
    "features will be independent. This is a very strong assumption. For\n",
    "example, if we were classifying the sex of an individual given their\n",
    "height and weight, naive Bayes would assume that if we knew their sex,\n",
    "then the height and weight would be independent. This is clearly wrong,\n",
    "the dependence between height and weight is not dictated only by the sex\n",
    "of an individual, there is a natural correlation between them.\n",
    "\n",
    "Modeling the entire joint density allows us to deal with different\n",
    "questions, that we may not have envisaged at the model *design time*. It\n",
    "contrasts with the approach we took for regression where we specifically\n",
    "chose to model the conditional density for the target values,\n",
    "$\\mathbf{ y}$, given the input locations, $\\mathbf{X}$. That density,\n",
    "$p(\\mathbf{ y}|\\mathbf{X})$, effectively assumes that the question we’ll\n",
    "be asked at *run time* is known. In particular, we expect to be asked\n",
    "about the value of the function, $y^*$, given a particular input\n",
    "location, $\\mathbf{ x}^*$. We don’t expect to be asked about the value\n",
    "of an input given a particular observation. That would require placing\n",
    "an additional prior over the input location for each point,\n",
    "$p(\\mathbf{ x}_i)$. Of course, it’s possible to conceive of a model like\n",
    "this, and indeed that is how we proceeded for . However, if we know we\n",
    "will always have all the inputs at run time, it may make sense to\n",
    "*directly* model the conditional density, $p(\\mathbf{ y}|\\mathbf{X})$."
   ]
  },
  {
   "cell_type": "markdown",
   "metadata": {},
   "source": [
    "Logistic Regression\n",
    "-------------------\n",
    "\n",
    "A logistic regression is an approach to classification which extends the\n",
    "linear basis function models we’ve already explored. Rather than\n",
    "modeling the output of the function directly the assumption is that we\n",
    "model the *log-odds* with the basis functions.\n",
    "\n",
    "The [odds](http://en.wikipedia.org/wiki/Odds) are defined as the ratio\n",
    "of the probability of a positive outcome, to the probability of a\n",
    "negative outcome. If the probability of a positive outcome is denoted by\n",
    "$\\pi$, then the odds are computed as $\\frac{\\pi}{1-\\pi}$. Odds are\n",
    "widely used by [bookmakers](http://en.wikipedia.org/wiki/Bookmaker) in\n",
    "gambling, although a bookmakers odds won’t normalise: i.e. if you look\n",
    "at the equivalent probabilities, and sum over the probability of all\n",
    "outcomes the bookmakers are considering, then you won’t get one. This is\n",
    "how the bookmaker makes a profit. Because a probability is always\n",
    "between zero and one, the odds are always between $0$ and $\\infty$. If\n",
    "the positive outcome is unlikely the odds are close to zero, if it is\n",
    "very likely then the odds become close to infinite. Taking the logarithm\n",
    "of the odds maps the odds from the positive half space to being across\n",
    "the entire real line. Odds that were between 0 and 1 (where the negative\n",
    "outcome was more likely) are mapped to the range between $-\\infty$ and\n",
    "$0$. Odds that are greater than 1 are mapped to the range between $0$\n",
    "and $\\infty$. Considering the log odds therefore takes a number between\n",
    "0 and 1 (the probability of positive outcome) and maps it to the entire\n",
    "real line. The function that does this is known as the [logit\n",
    "function](http://en.wikipedia.org/wiki/Logit),\n",
    "$g^{-1}(p_i) = \\log\\frac{p_i}{1-p_i}$. This function is known as a *link\n",
    "function*.\n",
    "\n",
    "For a standard regression we take, $$\n",
    "f(\\mathbf{ x}) = \\mathbf{ w}^\\top\n",
    "\\boldsymbol{ \\phi}(\\mathbf{ x}),\n",
    "$$ if we want to perform classification we perform a logistic\n",
    "regression. $$\n",
    "\\log \\frac{\\pi}{(1-\\pi)} = \\mathbf{ w}^\\top\n",
    "\\boldsymbol{ \\phi}(\\mathbf{ x})\n",
    "$$ where the odds ratio between the positive class and the negative\n",
    "class is given by $$\n",
    "\\frac{\\pi}{(1-\\pi)}\n",
    "$$ The odds can never be negative, but can take any value from 0 to\n",
    "$\\infty$. We have defined the link function as taking the form\n",
    "$g^{-1}(\\cdot)$ implying that the inverse link function is given by\n",
    "$g(\\cdot)$. Since we have defined, $$\n",
    "g^{-1}(\\pi) =\n",
    "\\mathbf{ w}^\\top \\boldsymbol{ \\phi}(\\mathbf{ x})\n",
    "$$ we can write $\\pi$ in terms of the *inverse link* function,\n",
    "$g(\\cdot)$ as $$\n",
    "\\pi = g(\\mathbf{ w}^\\top\n",
    "\\boldsymbol{ \\phi}(\\mathbf{ x})).\n",
    "$$"
   ]
  },
  {
   "cell_type": "code",
   "execution_count": null,
   "metadata": {},
   "outputs": [],
   "source": [
    "import teaching_plots as plot"
   ]
  },
  {
   "cell_type": "code",
   "execution_count": null,
   "metadata": {},
   "outputs": [],
   "source": [
    "plot.logistic('./ml/logistic.svg')"
   ]
  },
  {
   "cell_type": "markdown",
   "metadata": {},
   "source": [
    "Basis Function\n",
    "--------------\n",
    "\n",
    "We’ll define our prediction, objective and gradient functions below. But\n",
    "before we start, we need to define a basis function for our model. Let’s\n",
    "start with the linear basis."
   ]
  },
  {
   "cell_type": "code",
   "execution_count": null,
   "metadata": {},
   "outputs": [],
   "source": [
    "import numpy as np"
   ]
  },
  {
   "cell_type": "code",
   "execution_count": null,
   "metadata": {},
   "outputs": [],
   "source": [
    "%load -s linear mlai.py"
   ]
  },
  {
   "cell_type": "markdown",
   "metadata": {},
   "source": [
    "Prediction Function\n",
    "-------------------\n",
    "\n",
    "Now we have the basis function let’s define the prediction function."
   ]
  },
  {
   "cell_type": "code",
   "execution_count": null,
   "metadata": {},
   "outputs": [],
   "source": [
    "import numpy as np"
   ]
  },
  {
   "cell_type": "code",
   "execution_count": null,
   "metadata": {},
   "outputs": [],
   "source": [
    "def predict(w, x, basis=linear, **kwargs):\n",
    "    \"Generates the prediction function and the basis matrix.\"\n",
    "    Phi = basis(x, **kwargs)\n",
    "    f = np.dot(Phi, w)\n",
    "    return 1./(1+np.exp(-f)), Phi"
   ]
  },
  {
   "cell_type": "markdown",
   "metadata": {},
   "source": [
    "This inverse of the link function is known as the\n",
    "[logistic](http://en.wikipedia.org/wiki/Logistic_function) (thus the\n",
    "name logistic regression) or sometimes it is called the sigmoid\n",
    "function. For a particular value of the input to the link function,\n",
    "$f_i = \\mathbf{ w}^\\top \\boldsymbol{ \\phi}(\\mathbf{ x}_i)$ we can plot\n",
    "the value of the inverse link function as below."
   ]
  },
  {
   "cell_type": "markdown",
   "metadata": {},
   "source": [
    "### Sigmoid Function"
   ]
  },
  {
   "cell_type": "code",
   "execution_count": null,
   "metadata": {},
   "outputs": [],
   "source": [
    "import teaching_plots as plot"
   ]
  },
  {
   "cell_type": "code",
   "execution_count": null,
   "metadata": {},
   "outputs": [],
   "source": [
    "plot.logistic('./ml/logistic.svg')"
   ]
  },
  {
   "cell_type": "markdown",
   "metadata": {},
   "source": [
    "<img src=\"http://inverseprobability.com/talks/slides/../slides/diagrams/ml/logistic.svg\" class=\"\" width=\"80%\" style=\"vertical-align:middle;\">\n",
    "\n",
    "Figure: <i>The logistic function.</i>\n",
    "\n",
    "The function has this characeristic ‘s’-shape (from where the term\n",
    "sigmoid, as in sigma, comes from). It also takes the input from the\n",
    "entire real line and ‘squashes’ it into an output that is between zero\n",
    "and one. For this reason it is sometimes also called a ‘squashing\n",
    "function’.\n",
    "\n",
    "By replacing the inverse link with the sigmoid we can write $\\pi$ as a\n",
    "function of the input and the parameter vector as, $$\n",
    "\\pi(\\mathbf{ x},\\mathbf{ w}) = \\frac{1}{1+\\exp\\left(-\\mathbf{ w}^\\top \\boldsymbol{ \\phi}(\\mathbf{ x})\\right)}.\n",
    "$$ The process for logistic regression is as follows. Compute the output\n",
    "of a standard linear basis function composition\n",
    "($\\mathbf{ w}^\\top \\boldsymbol{ \\phi}(\\mathbf{ x})$, as we did for\n",
    "linear regression) and then apply the inverse link function,\n",
    "$g(\\mathbf{ w}^\\top \\boldsymbol{ \\phi}(\\mathbf{ x}))$. In logistic\n",
    "regression this involves *squashing* it with the logistic (or sigmoid)\n",
    "function. Use this value, which now has an interpretation as a\n",
    "*probability* in a Bernoulli distribution to form the likelihood. Then\n",
    "we can assume conditional independence of each data point given the\n",
    "parameters and develop a likelihod for the entire data set.\n",
    "\n",
    "As we discussed last time, the Bernoulli likelihood is of the form, $$\n",
    "P(y_i|\\mathbf{ w}, \\mathbf{ x}) =\n",
    "\\pi_i^{y_i} (1-\\pi_i)^{1-y_i}\n",
    "$$ which we can think of as clever trick for mathematically switching\n",
    "between two probabilities if we were to write it as code it would be\n",
    "better described as\n",
    "\n",
    "``` python\n",
    "def bernoulli(x, y, pi):\n",
    "    if y == 1:\n",
    "        return pi(x)\n",
    "    else:\n",
    "        return 1-pi(x)\n",
    "```\n",
    "\n",
    "but writing it mathematically makes it easier to write our objective\n",
    "function within a single mathematical equation."
   ]
  },
  {
   "cell_type": "markdown",
   "metadata": {},
   "source": [
    "Maximum Likelihood\n",
    "------------------\n",
    "\n",
    "To obtain the parameters of the model, we need to maximize the\n",
    "likelihood, or minimize the objective function, normally taken to be the\n",
    "negative log likelihood. With a data conditional independence assumption\n",
    "the likelihood has the form, $$\n",
    "P(\\mathbf{ y}|\\mathbf{ w},\n",
    "\\mathbf{X}) = \\prod_{i=1}^nP(y_i|\\mathbf{ w}, \\mathbf{ x}_i). \n",
    "$$ which can be written as a log likelihood in the form $$\n",
    "\\log P(\\mathbf{ y}|\\mathbf{ w},\n",
    "\\mathbf{X}) = \\sum_{i=1}^n\\log P(y_i|\\mathbf{ w}, \\mathbf{ x}_i) = \\sum_{i=1}^n\n",
    "y_i \\log \\pi_i + \\sum_{i=1}^n(1-y_i)\\log (1-\\pi_i)\n",
    "$$ and if we take the probability of positive outcome for the $i$th data\n",
    "point to be given by $$\n",
    "\\pi_i = g\\left(\\mathbf{ w}^\\top \\boldsymbol{ \\phi}(\\mathbf{ x}_i)\\right),\n",
    "$$ where $g(\\cdot)$ is the *inverse* link function, then this leads to\n",
    "an objective function of the form, $$\n",
    "E(\\mathbf{ w}) = -  \\sum_{i=1}^ny_i \\log\n",
    "g\\left(\\mathbf{ w}^\\top \\boldsymbol{ \\phi}(\\mathbf{ x}_i)\\right) -\n",
    "\\sum_{i=1}^n(1-y_i)\\log \\left(1-g\\left(\\mathbf{ w}^\\top\n",
    "\\boldsymbol{ \\phi}(\\mathbf{ x}_i)\\right)\\right).\n",
    "$$"
   ]
  },
  {
   "cell_type": "code",
   "execution_count": null,
   "metadata": {},
   "outputs": [],
   "source": [
    "import numpy as np"
   ]
  },
  {
   "cell_type": "code",
   "execution_count": null,
   "metadata": {},
   "outputs": [],
   "source": [
    "def objective(g, y):\n",
    "    \"Computes the objective function.\"\n",
    "    labs = np.asarray(y, dtype=float).flatten()\n",
    "    posind = np.where(labs==1)\n",
    "    negind = np.where(labs==0)\n",
    "    return -np.log(g[posind, :]).sum() - np.log(1-g[negind, :]).sum()"
   ]
  },
  {
   "cell_type": "markdown",
   "metadata": {},
   "source": [
    "As normal, we would like to minimize this objective. This can be done by\n",
    "differentiating with respect to the parameters of our prediction\n",
    "function, $\\pi(\\mathbf{ x};\\mathbf{ w})$, for optimisation. The gradient\n",
    "of the likelihood with respect to $\\pi(\\mathbf{ x};\\mathbf{ w})$ is of\n",
    "the form, $$\n",
    "\\frac{\\text{d}E(\\mathbf{ w})}{\\text{d}\\mathbf{ w}} = -\\sum_{i=1}^n\n",
    "\\frac{y_i}{g\\left(\\mathbf{ w}^\\top\n",
    "\\boldsymbol{ \\phi}(\\mathbf{ x})\\right)}\\frac{\\text{d}g(f_i)}{\\text{d}f_i}\n",
    "\\boldsymbol{ \\phi}(\\mathbf{ x}_i) +  \\sum_{i=1}^n\n",
    "\\frac{1-y_i}{1-g\\left(\\mathbf{ w}^\\top\n",
    "\\boldsymbol{ \\phi}(\\mathbf{ x})\\right)}\\frac{\\text{d}g(f_i)}{\\text{d}f_i}\n",
    "\\boldsymbol{ \\phi}(\\mathbf{ x}_i)\n",
    "$$ where we used the chain rule to develop the derivative in terms of\n",
    "$\\frac{\\text{d}g(f_i)}{\\text{d}f_i}$, which is the gradient of the\n",
    "inverse link function (in our case the gradient of the sigmoid\n",
    "function).\n",
    "\n",
    "So the objective function now depends on the gradient of the inverse\n",
    "link function, as well as the likelihood depends on the gradient of the\n",
    "inverse link function, as well as the gradient of the log likelihood,\n",
    "and naturally the gradient of the argument of the inverse link function\n",
    "with respect to the parameters, which is simply\n",
    "$\\boldsymbol{ \\phi}(\\mathbf{ x}_i)$.\n",
    "\n",
    "The only missing term is the gradient of the inverse link function. For\n",
    "the sigmoid squashing function we have, $$\\begin{align*}\n",
    "g(f_i) &= \\frac{1}{1+\\exp(-f_i)}\\\\\n",
    "&=(1+\\exp(-f_i))^{-1}\n",
    "\\end{align*}$$ and the gradient can be computed as $$\\begin{align*}\n",
    "\\frac{\\text{d}g(f_i)}{\\text{d} f_i} & =\n",
    "\\exp(-f_i)(1+\\exp(-f_i))^{-2}\\\\\n",
    "& = \\frac{1}{1+\\exp(-f_i)}\n",
    "\\frac{\\exp(-f_i)}{1+\\exp(-f_i)} \\\\\n",
    "& = g(f_i) (1-g(f_i))\n",
    "\\end{align*}$$ so the full gradient can be written down as $$\n",
    "\\frac{\\text{d}E(\\mathbf{ w})}{\\text{d}\\mathbf{ w}} = -\\sum_{i=1}^n\n",
    "y_i\\left(1-g\\left(\\mathbf{ w}^\\top \\boldsymbol{ \\phi}(\\mathbf{ x})\\right)\\right)\n",
    "\\boldsymbol{ \\phi}(\\mathbf{ x}_i) +  \\sum_{i=1}^n\n",
    "(1-y_i)\\left(g\\left(\\mathbf{ w}^\\top \\boldsymbol{ \\phi}(\\mathbf{ x})\\right)\\right)\n",
    "\\boldsymbol{ \\phi}(\\mathbf{ x}_i).\n",
    "$$"
   ]
  },
  {
   "cell_type": "code",
   "execution_count": null,
   "metadata": {},
   "outputs": [],
   "source": [
    "import numpy as np"
   ]
  },
  {
   "cell_type": "code",
   "execution_count": null,
   "metadata": {},
   "outputs": [],
   "source": [
    "def gradient(g, Phi, y):\n",
    "    \"Generates the gradient of the parameter vector.\"\n",
    "    labs = np.asarray(y, dtype=float).flatten()\n",
    "    posind = np.where(labs==1)\n",
    "    dw = -(Phi[posind]*(1-g[posind])).sum(0)\n",
    "    negind = np.where(labs==0 )\n",
    "    dw += (Phi[negind]*g[negind]).sum(0)\n",
    "    return dw[:, None]"
   ]
  },
  {
   "cell_type": "markdown",
   "metadata": {},
   "source": [
    "Optimization of the Function\n",
    "----------------------------\n",
    "\n",
    "Reorganizing the gradient to find a stationary point of the function\n",
    "with respect to the parameters $\\mathbf{ w}$ turns out to be impossible.\n",
    "Optimization has to proceed by *numerical methods*. Options include the\n",
    "multidimensional variant of [Newton’s\n",
    "method](http://en.wikipedia.org/wiki/Newton%27s_method) or [gradient\n",
    "based optimization\n",
    "methods](http://en.wikipedia.org/wiki/Gradient_method) like we used for\n",
    "optimizing matrix factorization for the movie recommender system. We\n",
    "recall from matrix factorization that, for large data, *stochastic\n",
    "gradient descent* or the Robbins Munro (Robbins and Monro, 1951)\n",
    "optimization procedure worked best for function minimization.\n",
    "\n",
    "{"
   ]
  },
  {
   "cell_type": "markdown",
   "metadata": {},
   "source": [
    "Olivetti Glasses Data\n",
    "---------------------\n",
    "\n",
    "Let’s classify images with logistic regression. We’ll look at a data set\n",
    "of individuals with glasses. We can load in the data from `pods` as\n",
    "follows."
   ]
  },
  {
   "cell_type": "code",
   "execution_count": null,
   "metadata": {},
   "outputs": [],
   "source": [
    "import pods"
   ]
  },
  {
   "cell_type": "code",
   "execution_count": null,
   "metadata": {},
   "outputs": [],
   "source": [
    "# Change this example for 2016#data = pods.datasets.movie_body_count_r_classify()\n",
    "data = pods.datasets.olivetti_glasses()\n",
    "X = data['X']\n",
    "y = data['Y']"
   ]
  },
  {
   "cell_type": "markdown",
   "metadata": {},
   "source": [
    "Batch Gradient Descent\n",
    "----------------------\n",
    "\n",
    "We will need to define some initial random values for our vector and\n",
    "then minimize the objective by descending the gradient."
   ]
  },
  {
   "cell_type": "code",
   "execution_count": null,
   "metadata": {},
   "outputs": [],
   "source": [
    "# Separate train and test\n",
    "indices = np.random.permutation(X.shape[0])\n",
    "num_train = np.ceil(X.shape[0]/2)r\n",
    "train_indices = indices[:num_train]\n",
    "test_indices = indices[num_train:]\n",
    "X_train = X.iloc[train_indices]\n",
    "y_train = y.iloc[train_indices]==True\n",
    "X_test = X.iloc[test_indices]\n",
    "y_test = y.iloc[test_indices]==True"
   ]
  },
  {
   "cell_type": "code",
   "execution_count": null,
   "metadata": {},
   "outputs": [],
   "source": [
    "import numpy as np"
   ]
  },
  {
   "cell_type": "code",
   "execution_count": null,
   "metadata": {},
   "outputs": [],
   "source": [
    "# gradient descent algorithm\n",
    "w = np.random.normal(size=(X.shape[1]+1, 1), scale = 0.001)\n",
    "eta = 1e-9\n",
    "iters = 10000\n",
    "for i in range(iters):\n",
    "    g, Phi = predict(w, X_train, linear)\n",
    "    w -= eta*gradient(g, Phi, y_train) + 0.001*w\n",
    "    if not i % 100:\n",
    "        print(\"Iter\", i, \"Objective\", objective(g, y_train))"
   ]
  },
  {
   "cell_type": "markdown",
   "metadata": {},
   "source": [
    "Let’s look at the weights and how they relate to the inputs."
   ]
  },
  {
   "cell_type": "code",
   "execution_count": null,
   "metadata": {},
   "outputs": [],
   "source": [
    "import matplotlib.pyplot as plt"
   ]
  },
  {
   "cell_type": "code",
   "execution_count": null,
   "metadata": {},
   "outputs": [],
   "source": [
    "print(w)"
   ]
  },
  {
   "cell_type": "markdown",
   "metadata": {},
   "source": [
    "What does the magnitude of the weight vectors tell you about the\n",
    "different parameters and their influence on outcome? Are the weights of\n",
    "roughly the same size, if not, how might you fix this?"
   ]
  },
  {
   "cell_type": "code",
   "execution_count": null,
   "metadata": {},
   "outputs": [],
   "source": [
    "g_test, Phi_test = predict(w, X_test, linear)\n",
    "np.sum(g_test[y_test]>0.5)"
   ]
  },
  {
   "cell_type": "markdown",
   "metadata": {},
   "source": [
    "Stochastic Gradient Descent\n",
    "---------------------------"
   ]
  },
  {
   "cell_type": "markdown",
   "metadata": {},
   "source": [
    "### Exercise 2\n",
    "\n",
    "Now construct a stochastic gradient descent algorithm and run it on the\n",
    "data. Is it faster or slower than batch gradient descent? What can you\n",
    "do to improve convergence speed?"
   ]
  },
  {
   "cell_type": "markdown",
   "metadata": {},
   "source": [
    "### Exercise 2 Answer\n",
    "\n",
    "Write your answer to Exercise 2 here"
   ]
  },
  {
   "cell_type": "code",
   "execution_count": null,
   "metadata": {},
   "outputs": [],
   "source": [
    "# Use this box for any code you need\n",
    "\n"
   ]
  },
  {
   "cell_type": "markdown",
   "metadata": {},
   "source": [
    "Going Further: Optimization\n",
    "---------------------------\n",
    "\n",
    "Other optimization techniques for generalized linear models include\n",
    "[Newton’s method](http://en.wikipedia.org/wiki/Newton%27s_method), it\n",
    "requires you to compute the Hessian, or second derivative of the\n",
    "objective function.\n",
    "\n",
    "Methods that are based on gradients only include\n",
    "[L-BFGS](http://en.wikipedia.org/wiki/Limited-memory_BFGS) and\n",
    "[conjugate\n",
    "gradients](http://en.wikipedia.org/wiki/Conjugate_gradient_method). Can\n",
    "you find these in python? Are they suitable for very large data sets? }"
   ]
  },
  {
   "cell_type": "markdown",
   "metadata": {},
   "source": [
    "Other GLMs\n",
    "----------\n",
    "\n",
    "We’ve introduced the formalism for generalized linear models. Have a\n",
    "think about how you might model count data using the [Poisson\n",
    "distribution](http://en.wikipedia.org/wiki/Poisson_distribution) and a\n",
    "log link function for the rate, $\\lambda(\\mathbf{ x})$. If you want a\n",
    "data set you can try the `pods.datasets.google_trends()` for some count\n",
    "data."
   ]
  },
  {
   "cell_type": "markdown",
   "metadata": {},
   "source": [
    "Poisson Distribution\n",
    "--------------------"
   ]
  },
  {
   "cell_type": "code",
   "execution_count": null,
   "metadata": {},
   "outputs": [],
   "source": [
    "import teaching_plots as plot"
   ]
  },
  {
   "cell_type": "code",
   "execution_count": null,
   "metadata": {},
   "outputs": [],
   "source": [
    "plot.poisson('./ml/')"
   ]
  },
  {
   "cell_type": "markdown",
   "metadata": {},
   "source": [
    "<img src=\"http://inverseprobability.com/talks/slides/../slides/diagrams/ml/poisson.svg\" class=\"\" width=\"80%\" style=\"vertical-align:middle;\">\n",
    "\n",
    "Figure: <i>The Poisson distribution.</i>"
   ]
  },
  {
   "cell_type": "markdown",
   "metadata": {},
   "source": [
    "Poisson Regression\n",
    "------------------"
   ]
  },
  {
   "cell_type": "markdown",
   "metadata": {},
   "source": [
    "Bayesian Approaches\n",
    "-------------------"
   ]
  },
  {
   "cell_type": "markdown",
   "metadata": {},
   "source": [
    "### Exercise 3\n",
    "\n",
    "Can you place a prior density over the parameters $\\mathbf{ w}$ and\n",
    "marginalize them out like we did for linear regression? If not why not?"
   ]
  },
  {
   "cell_type": "markdown",
   "metadata": {},
   "source": [
    "### Exercise 3 Answer\n",
    "\n",
    "Write your answer to Exercise 3 here"
   ]
  },
  {
   "cell_type": "code",
   "execution_count": null,
   "metadata": {},
   "outputs": [],
   "source": [
    "# Use this box for any code you need\n",
    "\n"
   ]
  },
  {
   "cell_type": "markdown",
   "metadata": {},
   "source": [
    "Further Reading\n",
    "---------------\n",
    "\n",
    "-   Section 5.2.2 up to pg 182 of Rogers and Girolami (2011)"
   ]
  },
  {
   "cell_type": "markdown",
   "metadata": {},
   "source": [
    "Thanks!\n",
    "-------\n",
    "\n",
    "For more information on these subjects and more you might want to check\n",
    "the following resources.\n",
    "\n",
    "-   twitter: [@lawrennd](https://twitter.com/lawrennd)\n",
    "-   podcast: [The Talking Machines](http://thetalkingmachines.com)\n",
    "-   newspaper: [Guardian Profile\n",
    "    Page](http://www.theguardian.com/profile/neil-lawrence)\n",
    "-   blog:\n",
    "    [http://inverseprobability.com](http://inverseprobability.com/blog.html)"
   ]
  },
  {
   "cell_type": "markdown",
   "metadata": {},
   "source": [
    "References\n",
    "----------"
   ]
  },
  {
   "cell_type": "markdown",
   "metadata": {},
   "source": [
    "Robbins, H., Monro, S., 1951. A stochastic approximation method. Annals\n",
    "of Mathematical Statistics 22, 400–407.\n",
    "\n",
    "Rogers, S., Girolami, M., 2011. A first course in machine learning. CRC\n",
    "Press."
   ]
  }
 ],
 "nbformat": 4,
 "nbformat_minor": 5,
 "metadata": {}
}
