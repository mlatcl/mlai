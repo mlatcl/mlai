{
 "cells": [
  {
   "cell_type": "markdown",
   "metadata": {},
   "source": [
    "Bayesian Regression\n",
    "===================\n",
    "\n",
    "### [Neil D. Lawrence](http://inverseprobability.com), University of\n",
    "\n",
    "Cambridge"
   ]
  },
  {
   "cell_type": "markdown",
   "metadata": {},
   "source": [
    "**Abstract**: Bayesian formalisms deal with uncertainty in parameters,"
   ]
  },
  {
   "cell_type": "markdown",
   "metadata": {},
   "source": [
    "$$\n",
    "\\newcommand{\\tk}[1]{}\n",
    "%\\newcommand{\\tk}[1]{\\textbf{TK}: #1}\n",
    "\\newcommand{\\Amatrix}{\\mathbf{A}}\n",
    "\\newcommand{\\KL}[2]{\\text{KL}\\left( #1\\,\\|\\,#2 \\right)}\n",
    "\\newcommand{\\Kaast}{\\kernelMatrix_{\\mathbf{ \\ast}\\mathbf{ \\ast}}}\n",
    "\\newcommand{\\Kastu}{\\kernelMatrix_{\\mathbf{ \\ast} \\inducingVector}}\n",
    "\\newcommand{\\Kff}{\\kernelMatrix_{\\mappingFunctionVector \\mappingFunctionVector}}\n",
    "\\newcommand{\\Kfu}{\\kernelMatrix_{\\mappingFunctionVector \\inducingVector}}\n",
    "\\newcommand{\\Kuast}{\\kernelMatrix_{\\inducingVector \\bf\\ast}}\n",
    "\\newcommand{\\Kuf}{\\kernelMatrix_{\\inducingVector \\mappingFunctionVector}}\n",
    "\\newcommand{\\Kuu}{\\kernelMatrix_{\\inducingVector \\inducingVector}}\n",
    "\\newcommand{\\Kuui}{\\Kuu^{-1}}\n",
    "\\newcommand{\\Qaast}{\\mathbf{Q}_{\\bf \\ast \\ast}}\n",
    "\\newcommand{\\Qastf}{\\mathbf{Q}_{\\ast \\mappingFunction}}\n",
    "\\newcommand{\\Qfast}{\\mathbf{Q}_{\\mappingFunctionVector \\bf \\ast}}\n",
    "\\newcommand{\\Qff}{\\mathbf{Q}_{\\mappingFunctionVector \\mappingFunctionVector}}\n",
    "\\newcommand{\\aMatrix}{\\mathbf{A}}\n",
    "\\newcommand{\\aScalar}{a}\n",
    "\\newcommand{\\aVector}{\\mathbf{a}}\n",
    "\\newcommand{\\acceleration}{a}\n",
    "\\newcommand{\\bMatrix}{\\mathbf{B}}\n",
    "\\newcommand{\\bScalar}{b}\n",
    "\\newcommand{\\bVector}{\\mathbf{b}}\n",
    "\\newcommand{\\basisFunc}{\\phi}\n",
    "\\newcommand{\\basisFuncVector}{\\boldsymbol{ \\basisFunc}}\n",
    "\\newcommand{\\basisFunction}{\\phi}\n",
    "\\newcommand{\\basisLocation}{\\mu}\n",
    "\\newcommand{\\basisMatrix}{\\boldsymbol{ \\Phi}}\n",
    "\\newcommand{\\basisScalar}{\\basisFunction}\n",
    "\\newcommand{\\basisVector}{\\boldsymbol{ \\basisFunction}}\n",
    "\\newcommand{\\activationFunction}{\\phi}\n",
    "\\newcommand{\\activationMatrix}{\\boldsymbol{ \\Phi}}\n",
    "\\newcommand{\\activationScalar}{\\basisFunction}\n",
    "\\newcommand{\\activationVector}{\\boldsymbol{ \\basisFunction}}\n",
    "\\newcommand{\\bigO}{\\mathcal{O}}\n",
    "\\newcommand{\\binomProb}{\\pi}\n",
    "\\newcommand{\\cMatrix}{\\mathbf{C}}\n",
    "\\newcommand{\\cbasisMatrix}{\\hat{\\boldsymbol{ \\Phi}}}\n",
    "\\newcommand{\\cdataMatrix}{\\hat{\\dataMatrix}}\n",
    "\\newcommand{\\cdataScalar}{\\hat{\\dataScalar}}\n",
    "\\newcommand{\\cdataVector}{\\hat{\\dataVector}}\n",
    "\\newcommand{\\centeredKernelMatrix}{\\mathbf{ \\MakeUppercase{\\centeredKernelScalar}}}\n",
    "\\newcommand{\\centeredKernelScalar}{b}\n",
    "\\newcommand{\\centeredKernelVector}{\\centeredKernelScalar}\n",
    "\\newcommand{\\centeringMatrix}{\\mathbf{H}}\n",
    "\\newcommand{\\chiSquaredDist}[2]{\\chi_{#1}^{2}\\left(#2\\right)}\n",
    "\\newcommand{\\chiSquaredSamp}[1]{\\chi_{#1}^{2}}\n",
    "\\newcommand{\\conditionalCovariance}{\\boldsymbol{ \\Sigma}}\n",
    "\\newcommand{\\coregionalizationMatrix}{\\mathbf{B}}\n",
    "\\newcommand{\\coregionalizationScalar}{b}\n",
    "\\newcommand{\\coregionalizationVector}{\\mathbf{ \\coregionalizationScalar}}\n",
    "\\newcommand{\\covDist}[2]{\\text{cov}_{#2}\\left(#1\\right)}\n",
    "\\newcommand{\\covSamp}[1]{\\text{cov}\\left(#1\\right)}\n",
    "\\newcommand{\\covarianceScalar}{c}\n",
    "\\newcommand{\\covarianceVector}{\\mathbf{ \\covarianceScalar}}\n",
    "\\newcommand{\\covarianceMatrix}{\\mathbf{C}}\n",
    "\\newcommand{\\covarianceMatrixTwo}{\\boldsymbol{ \\Sigma}}\n",
    "\\newcommand{\\croupierScalar}{s}\n",
    "\\newcommand{\\croupierVector}{\\mathbf{ \\croupierScalar}}\n",
    "\\newcommand{\\croupierMatrix}{\\mathbf{ \\MakeUppercase{\\croupierScalar}}}\n",
    "\\newcommand{\\dataDim}{p}\n",
    "\\newcommand{\\dataIndex}{i}\n",
    "\\newcommand{\\dataIndexTwo}{j}\n",
    "\\newcommand{\\dataMatrix}{\\mathbf{Y}}\n",
    "\\newcommand{\\dataScalar}{y}\n",
    "\\newcommand{\\dataSet}{\\mathcal{D}}\n",
    "\\newcommand{\\dataStd}{\\sigma}\n",
    "\\newcommand{\\dataVector}{\\mathbf{ \\dataScalar}}\n",
    "\\newcommand{\\decayRate}{d}\n",
    "\\newcommand{\\degreeMatrix}{\\mathbf{ \\MakeUppercase{\\degreeScalar}}}\n",
    "\\newcommand{\\degreeScalar}{d}\n",
    "\\newcommand{\\degreeVector}{\\mathbf{ \\degreeScalar}}\n",
    "% Already defined by latex\n",
    "%\\newcommand{\\det}[1]{\\left|#1\\right|}\n",
    "\\newcommand{\\diag}[1]{\\text{diag}\\left(#1\\right)}\n",
    "\\newcommand{\\diagonalMatrix}{\\mathbf{D}}\n",
    "\\newcommand{\\diff}[2]{\\frac{\\text{d}#1}{\\text{d}#2}}\n",
    "\\newcommand{\\diffTwo}[2]{\\frac{\\text{d}^2#1}{\\text{d}#2^2}}\n",
    "\\newcommand{\\displacement}{x}\n",
    "\\newcommand{\\displacementVector}{\\textbf{\\displacement}}\n",
    "\\newcommand{\\distanceMatrix}{\\mathbf{ \\MakeUppercase{\\distanceScalar}}}\n",
    "\\newcommand{\\distanceScalar}{d}\n",
    "\\newcommand{\\distanceVector}{\\mathbf{ \\distanceScalar}}\n",
    "\\newcommand{\\eigenvaltwo}{\\ell}\n",
    "\\newcommand{\\eigenvaltwoMatrix}{\\mathbf{L}}\n",
    "\\newcommand{\\eigenvaltwoVector}{\\mathbf{l}}\n",
    "\\newcommand{\\eigenvalue}{\\lambda}\n",
    "\\newcommand{\\eigenvalueMatrix}{\\boldsymbol{ \\Lambda}}\n",
    "\\newcommand{\\eigenvalueVector}{\\boldsymbol{ \\lambda}}\n",
    "\\newcommand{\\eigenvector}{\\mathbf{ \\eigenvectorScalar}}\n",
    "\\newcommand{\\eigenvectorMatrix}{\\mathbf{U}}\n",
    "\\newcommand{\\eigenvectorScalar}{u}\n",
    "\\newcommand{\\eigenvectwo}{\\mathbf{v}}\n",
    "\\newcommand{\\eigenvectwoMatrix}{\\mathbf{V}}\n",
    "\\newcommand{\\eigenvectwoScalar}{v}\n",
    "\\newcommand{\\entropy}[1]{\\mathcal{H}\\left(#1\\right)}\n",
    "\\newcommand{\\errorFunction}{E}\n",
    "\\newcommand{\\expDist}[2]{\\left<#1\\right>_{#2}}\n",
    "\\newcommand{\\expSamp}[1]{\\left<#1\\right>}\n",
    "\\newcommand{\\expectation}[1]{\\left\\langle #1 \\right\\rangle }\n",
    "\\newcommand{\\expectationDist}[2]{\\left\\langle #1 \\right\\rangle _{#2}}\n",
    "\\newcommand{\\expectedDistanceMatrix}{\\mathcal{D}}\n",
    "\\newcommand{\\eye}{\\mathbf{I}}\n",
    "\\newcommand{\\fantasyDim}{r}\n",
    "\\newcommand{\\fantasyMatrix}{\\mathbf{ \\MakeUppercase{\\fantasyScalar}}}\n",
    "\\newcommand{\\fantasyScalar}{z}\n",
    "\\newcommand{\\fantasyVector}{\\mathbf{ \\fantasyScalar}}\n",
    "\\newcommand{\\featureStd}{\\varsigma}\n",
    "\\newcommand{\\gammaCdf}[3]{\\mathcal{GAMMA CDF}\\left(#1|#2,#3\\right)}\n",
    "\\newcommand{\\gammaDist}[3]{\\mathcal{G}\\left(#1|#2,#3\\right)}\n",
    "\\newcommand{\\gammaSamp}[2]{\\mathcal{G}\\left(#1,#2\\right)}\n",
    "\\newcommand{\\gaussianDist}[3]{\\mathcal{N}\\left(#1|#2,#3\\right)}\n",
    "\\newcommand{\\gaussianSamp}[2]{\\mathcal{N}\\left(#1,#2\\right)}\n",
    "\\newcommand{\\given}{|}\n",
    "\\newcommand{\\half}{\\frac{1}{2}}\n",
    "\\newcommand{\\heaviside}{H}\n",
    "\\newcommand{\\hiddenMatrix}{\\mathbf{ \\MakeUppercase{\\hiddenScalar}}}\n",
    "\\newcommand{\\hiddenScalar}{h}\n",
    "\\newcommand{\\hiddenVector}{\\mathbf{ \\hiddenScalar}}\n",
    "\\newcommand{\\identityMatrix}{\\eye}\n",
    "\\newcommand{\\inducingInputScalar}{z}\n",
    "\\newcommand{\\inducingInputVector}{\\mathbf{ \\inducingInputScalar}}\n",
    "\\newcommand{\\inducingInputMatrix}{\\mathbf{Z}}\n",
    "\\newcommand{\\inducingScalar}{u}\n",
    "\\newcommand{\\inducingVector}{\\mathbf{ \\inducingScalar}}\n",
    "\\newcommand{\\inducingMatrix}{\\mathbf{U}}\n",
    "\\newcommand{\\inlineDiff}[2]{\\text{d}#1/\\text{d}#2}\n",
    "\\newcommand{\\inputDim}{q}\n",
    "\\newcommand{\\inputMatrix}{\\mathbf{X}}\n",
    "\\newcommand{\\inputScalar}{x}\n",
    "\\newcommand{\\inputSpace}{\\mathcal{X}}\n",
    "\\newcommand{\\inputVals}{\\inputVector}\n",
    "\\newcommand{\\inputVector}{\\mathbf{ \\inputScalar}}\n",
    "\\newcommand{\\iterNum}{k}\n",
    "\\newcommand{\\kernel}{\\kernelScalar}\n",
    "\\newcommand{\\kernelMatrix}{\\mathbf{K}}\n",
    "\\newcommand{\\kernelScalar}{k}\n",
    "\\newcommand{\\kernelVector}{\\mathbf{ \\kernelScalar}}\n",
    "\\newcommand{\\kff}{\\kernelScalar_{\\mappingFunction \\mappingFunction}}\n",
    "\\newcommand{\\kfu}{\\kernelVector_{\\mappingFunction \\inducingScalar}}\n",
    "\\newcommand{\\kuf}{\\kernelVector_{\\inducingScalar \\mappingFunction}}\n",
    "\\newcommand{\\kuu}{\\kernelVector_{\\inducingScalar \\inducingScalar}}\n",
    "\\newcommand{\\lagrangeMultiplier}{\\lambda}\n",
    "\\newcommand{\\lagrangeMultiplierMatrix}{\\boldsymbol{ \\Lambda}}\n",
    "\\newcommand{\\lagrangian}{L}\n",
    "\\newcommand{\\laplacianFactor}{\\mathbf{ \\MakeUppercase{\\laplacianFactorScalar}}}\n",
    "\\newcommand{\\laplacianFactorScalar}{m}\n",
    "\\newcommand{\\laplacianFactorVector}{\\mathbf{ \\laplacianFactorScalar}}\n",
    "\\newcommand{\\laplacianMatrix}{\\mathbf{L}}\n",
    "\\newcommand{\\laplacianScalar}{\\ell}\n",
    "\\newcommand{\\laplacianVector}{\\mathbf{ \\ell}}\n",
    "\\newcommand{\\latentDim}{q}\n",
    "\\newcommand{\\latentDistanceMatrix}{\\boldsymbol{ \\Delta}}\n",
    "\\newcommand{\\latentDistanceScalar}{\\delta}\n",
    "\\newcommand{\\latentDistanceVector}{\\boldsymbol{ \\delta}}\n",
    "\\newcommand{\\latentForce}{f}\n",
    "\\newcommand{\\latentFunction}{u}\n",
    "\\newcommand{\\latentFunctionVector}{\\mathbf{ \\latentFunction}}\n",
    "\\newcommand{\\latentFunctionMatrix}{\\mathbf{ \\MakeUppercase{\\latentFunction}}}\n",
    "\\newcommand{\\latentIndex}{j}\n",
    "\\newcommand{\\latentScalar}{z}\n",
    "\\newcommand{\\latentVector}{\\mathbf{ \\latentScalar}}\n",
    "\\newcommand{\\latentMatrix}{\\mathbf{Z}}\n",
    "\\newcommand{\\learnRate}{\\eta}\n",
    "\\newcommand{\\lengthScale}{\\ell}\n",
    "\\newcommand{\\rbfWidth}{\\ell}\n",
    "\\newcommand{\\likelihoodBound}{\\mathcal{L}}\n",
    "\\newcommand{\\likelihoodFunction}{L}\n",
    "\\newcommand{\\locationScalar}{\\mu}\n",
    "\\newcommand{\\locationVector}{\\boldsymbol{ \\locationScalar}}\n",
    "\\newcommand{\\locationMatrix}{\\mathbf{M}}\n",
    "\\newcommand{\\variance}[1]{\\text{var}\\left( #1 \\right)}\n",
    "\\newcommand{\\mappingFunction}{f}\n",
    "\\newcommand{\\mappingFunctionMatrix}{\\mathbf{F}}\n",
    "\\newcommand{\\mappingFunctionTwo}{g}\n",
    "\\newcommand{\\mappingFunctionTwoMatrix}{\\mathbf{G}}\n",
    "\\newcommand{\\mappingFunctionTwoVector}{\\mathbf{ \\mappingFunctionTwo}}\n",
    "\\newcommand{\\mappingFunctionVector}{\\mathbf{ \\mappingFunction}}\n",
    "\\newcommand{\\scaleScalar}{s}\n",
    "\\newcommand{\\mappingScalar}{w}\n",
    "\\newcommand{\\mappingVector}{\\mathbf{ \\mappingScalar}}\n",
    "\\newcommand{\\mappingMatrix}{\\mathbf{W}}\n",
    "\\newcommand{\\mappingScalarTwo}{v}\n",
    "\\newcommand{\\mappingVectorTwo}{\\mathbf{ \\mappingScalarTwo}}\n",
    "\\newcommand{\\mappingMatrixTwo}{\\mathbf{V}}\n",
    "\\newcommand{\\maxIters}{K}\n",
    "\\newcommand{\\meanMatrix}{\\mathbf{M}}\n",
    "\\newcommand{\\meanScalar}{\\mu}\n",
    "\\newcommand{\\meanTwoMatrix}{\\mathbf{M}}\n",
    "\\newcommand{\\meanTwoScalar}{m}\n",
    "\\newcommand{\\meanTwoVector}{\\mathbf{ \\meanTwoScalar}}\n",
    "\\newcommand{\\meanVector}{\\boldsymbol{ \\meanScalar}}\n",
    "\\newcommand{\\mrnaConcentration}{m}\n",
    "\\newcommand{\\naturalFrequency}{\\omega}\n",
    "\\newcommand{\\neighborhood}[1]{\\mathcal{N}\\left( #1 \\right)}\n",
    "\\newcommand{\\neilurl}{http://inverseprobability.com/}\n",
    "\\newcommand{\\noiseMatrix}{\\boldsymbol{ E}}\n",
    "\\newcommand{\\noiseScalar}{\\epsilon}\n",
    "\\newcommand{\\noiseVector}{\\boldsymbol{ \\epsilon}}\n",
    "\\newcommand{\\norm}[1]{\\left\\Vert #1 \\right\\Vert}\n",
    "\\newcommand{\\normalizedLaplacianMatrix}{\\hat{\\mathbf{L}}}\n",
    "\\newcommand{\\normalizedLaplacianScalar}{\\hat{\\ell}}\n",
    "\\newcommand{\\normalizedLaplacianVector}{\\hat{\\mathbf{ \\ell}}}\n",
    "\\newcommand{\\numActive}{m}\n",
    "\\newcommand{\\numBasisFunc}{m}\n",
    "\\newcommand{\\numComponents}{m}\n",
    "\\newcommand{\\numComps}{K}\n",
    "\\newcommand{\\numData}{n}\n",
    "\\newcommand{\\numFeatures}{K}\n",
    "\\newcommand{\\numHidden}{h}\n",
    "\\newcommand{\\numInducing}{m}\n",
    "\\newcommand{\\numLayers}{\\ell}\n",
    "\\newcommand{\\numNeighbors}{K}\n",
    "\\newcommand{\\numSequences}{s}\n",
    "\\newcommand{\\numSuccess}{s}\n",
    "\\newcommand{\\numTasks}{m}\n",
    "\\newcommand{\\numTime}{T}\n",
    "\\newcommand{\\numTrials}{S}\n",
    "\\newcommand{\\outputIndex}{j}\n",
    "\\newcommand{\\paramVector}{\\boldsymbol{ \\theta}}\n",
    "\\newcommand{\\parameterMatrix}{\\boldsymbol{ \\Theta}}\n",
    "\\newcommand{\\parameterScalar}{\\theta}\n",
    "\\newcommand{\\parameterVector}{\\boldsymbol{ \\parameterScalar}}\n",
    "\\newcommand{\\partDiff}[2]{\\frac{\\partial#1}{\\partial#2}}\n",
    "\\newcommand{\\precisionScalar}{j}\n",
    "\\newcommand{\\precisionVector}{\\mathbf{ \\precisionScalar}}\n",
    "\\newcommand{\\precisionMatrix}{\\mathbf{J}}\n",
    "\\newcommand{\\pseudotargetScalar}{\\widetilde{y}}\n",
    "\\newcommand{\\pseudotargetVector}{\\mathbf{ \\pseudotargetScalar}}\n",
    "\\newcommand{\\pseudotargetMatrix}{\\mathbf{ \\widetilde{Y}}}\n",
    "\\newcommand{\\rank}[1]{\\text{rank}\\left(#1\\right)}\n",
    "\\newcommand{\\rayleighDist}[2]{\\mathcal{R}\\left(#1|#2\\right)}\n",
    "\\newcommand{\\rayleighSamp}[1]{\\mathcal{R}\\left(#1\\right)}\n",
    "\\newcommand{\\responsibility}{r}\n",
    "\\newcommand{\\rotationScalar}{r}\n",
    "\\newcommand{\\rotationVector}{\\mathbf{ \\rotationScalar}}\n",
    "\\newcommand{\\rotationMatrix}{\\mathbf{R}}\n",
    "\\newcommand{\\sampleCovScalar}{s}\n",
    "\\newcommand{\\sampleCovVector}{\\mathbf{ \\sampleCovScalar}}\n",
    "\\newcommand{\\sampleCovMatrix}{\\mathbf{s}}\n",
    "\\newcommand{\\scalarProduct}[2]{\\left\\langle{#1},{#2}\\right\\rangle}\n",
    "\\newcommand{\\sign}[1]{\\text{sign}\\left(#1\\right)}\n",
    "\\newcommand{\\sigmoid}[1]{\\sigma\\left(#1\\right)}\n",
    "\\newcommand{\\singularvalue}{\\ell}\n",
    "\\newcommand{\\singularvalueMatrix}{\\mathbf{L}}\n",
    "\\newcommand{\\singularvalueVector}{\\mathbf{l}}\n",
    "\\newcommand{\\sorth}{\\mathbf{u}}\n",
    "\\newcommand{\\spar}{\\lambda}\n",
    "\\newcommand{\\trace}[1]{\\text{tr}\\left(#1\\right)}\n",
    "\\newcommand{\\BasalRate}{B}\n",
    "\\newcommand{\\DampingCoefficient}{C}\n",
    "\\newcommand{\\DecayRate}{D}\n",
    "\\newcommand{\\Displacement}{X}\n",
    "\\newcommand{\\LatentForce}{F}\n",
    "\\newcommand{\\Mass}{M}\n",
    "\\newcommand{\\Sensitivity}{S}\n",
    "\\newcommand{\\basalRate}{b}\n",
    "\\newcommand{\\dampingCoefficient}{c}\n",
    "\\newcommand{\\mass}{m}\n",
    "\\newcommand{\\sensitivity}{s}\n",
    "\\newcommand{\\springScalar}{\\kappa}\n",
    "\\newcommand{\\springVector}{\\boldsymbol{ \\kappa}}\n",
    "\\newcommand{\\springMatrix}{\\boldsymbol{ \\mathcal{K}}}\n",
    "\\newcommand{\\tfConcentration}{p}\n",
    "\\newcommand{\\tfDecayRate}{\\delta}\n",
    "\\newcommand{\\tfMrnaConcentration}{f}\n",
    "\\newcommand{\\tfVector}{\\mathbf{ \\tfConcentration}}\n",
    "\\newcommand{\\velocity}{v}\n",
    "\\newcommand{\\sufficientStatsScalar}{g}\n",
    "\\newcommand{\\sufficientStatsVector}{\\mathbf{ \\sufficientStatsScalar}}\n",
    "\\newcommand{\\sufficientStatsMatrix}{\\mathbf{G}}\n",
    "\\newcommand{\\switchScalar}{s}\n",
    "\\newcommand{\\switchVector}{\\mathbf{ \\switchScalar}}\n",
    "\\newcommand{\\switchMatrix}{\\mathbf{S}}\n",
    "\\newcommand{\\tr}[1]{\\text{tr}\\left(#1\\right)}\n",
    "\\newcommand{\\loneNorm}[1]{\\left\\Vert #1 \\right\\Vert_1}\n",
    "\\newcommand{\\ltwoNorm}[1]{\\left\\Vert #1 \\right\\Vert_2}\n",
    "\\newcommand{\\onenorm}[1]{\\left\\vert#1\\right\\vert_1}\n",
    "\\newcommand{\\twonorm}[1]{\\left\\Vert #1 \\right\\Vert}\n",
    "\\newcommand{\\vScalar}{v}\n",
    "\\newcommand{\\vVector}{\\mathbf{v}}\n",
    "\\newcommand{\\vMatrix}{\\mathbf{V}}\n",
    "\\newcommand{\\varianceDist}[2]{\\text{var}_{#2}\\left( #1 \\right)}\n",
    "% Already defined by latex\n",
    "%\\newcommand{\\vec}{#1:}\n",
    "\\newcommand{\\vecb}[1]{\\left(#1\\right):}\n",
    "\\newcommand{\\weightScalar}{w}\n",
    "\\newcommand{\\weightVector}{\\mathbf{ \\weightScalar}}\n",
    "\\newcommand{\\weightMatrix}{\\mathbf{W}}\n",
    "\\newcommand{\\weightedAdjacencyMatrix}{\\mathbf{A}}\n",
    "\\newcommand{\\weightedAdjacencyScalar}{a}\n",
    "\\newcommand{\\weightedAdjacencyVector}{\\mathbf{ \\weightedAdjacencyScalar}}\n",
    "\\newcommand{\\onesVector}{\\mathbf{1}}\n",
    "\\newcommand{\\zerosVector}{\\mathbf{0}}\n",
    "$$"
   ]
  },
  {
   "cell_type": "markdown",
   "metadata": {},
   "source": [
    "%\n",
    "\n",
    "% Already defined by latex %\n",
    "\n",
    "% Already defined by latex %\n",
    "\n",
    "<!-- Do not edit this file locally. -->\n",
    "<!-- Do not edit this file locally. -->\n",
    "<!---->\n",
    "<!-- Do not edit this file locally. -->\n",
    "<!-- Do not edit this file locally. -->\n",
    "<!-- The last names to be defined. Should be defined entirely in terms of macros from above-->\n",
    "<!--\n",
    "\n",
    "-->"
   ]
  },
  {
   "cell_type": "markdown",
   "metadata": {},
   "source": [
    "Setup\n",
    "-----\n",
    "\n",
    "First we download some libraries and files to support the notebook."
   ]
  },
  {
   "cell_type": "code",
   "execution_count": null,
   "metadata": {},
   "outputs": [],
   "source": [
    "import urllib.request"
   ]
  },
  {
   "cell_type": "code",
   "execution_count": null,
   "metadata": {},
   "outputs": [],
   "source": [
    "urllib.request.urlretrieve('https://raw.githubusercontent.com/lawrennd/talks/gh-pages/mlai.py','mlai.py')"
   ]
  },
  {
   "cell_type": "code",
   "execution_count": null,
   "metadata": {},
   "outputs": [],
   "source": [
    "urllib.request.urlretrieve('https://raw.githubusercontent.com/lawrennd/talks/gh-pages/teaching_plots.py','teaching_plots.py')"
   ]
  },
  {
   "cell_type": "code",
   "execution_count": null,
   "metadata": {},
   "outputs": [],
   "source": [
    "urllib.request.urlretrieve('https://raw.githubusercontent.com/lawrennd/talks/gh-pages/gp_tutorial.py','gp_tutorial.py')"
   ]
  },
  {
   "cell_type": "markdown",
   "metadata": {},
   "source": [
    "`pods`\n",
    "------\n",
    "\n",
    "In Sheffield we created a suite of software tools for ‘Open Data\n",
    "Science’. Open data science is an approach to sharing code, models and\n",
    "data that should make it easier for companies, health professionals and\n",
    "scientists to gain access to data science techniques.\n",
    "\n",
    "You can also check my blog post on [Open Data\n",
    "Science](http://inverseprobability.com/2014/07/01/open-data-science).\n",
    "\n",
    "The software can be installed using"
   ]
  },
  {
   "cell_type": "code",
   "execution_count": null,
   "metadata": {},
   "outputs": [],
   "source": [
    "%pip install --upgrade git+https://github.com/sods/ods"
   ]
  },
  {
   "cell_type": "markdown",
   "metadata": {},
   "source": [
    "from the command prompt where you can access your python installation.\n",
    "\n",
    "The code is also available on github:\n",
    "<a href=\"https://github.com/sods/ods\" class=\"uri\">https://github.com/sods/ods</a>\n",
    "\n",
    "Once `pods` is installed, it can be imported in the usual manner."
   ]
  },
  {
   "cell_type": "code",
   "execution_count": null,
   "metadata": {},
   "outputs": [],
   "source": [
    "import pods"
   ]
  },
  {
   "cell_type": "markdown",
   "metadata": {},
   "source": [
    "Overdetermined System\n",
    "---------------------\n",
    "\n",
    "We can motivate the introduction of probability by considering systems\n",
    "where there were more observations than unknowns. In particular we can\n",
    "consider the simple fitting of the gradient and an offset of a line, $$ \n",
    "y= mx+c.\n",
    "$$ What happens if we have three pairs of observations of $x$ and $y$,\n",
    "$\\{x_i, y_i\\}_{i=1}^3$. The issue can be solved by introducing a type of\n",
    "[slack variable](http://en.wikipedia.org/wiki/Slack_variable),\n",
    "$\\epsilon_i$, known as noise, such that for each observation we had the\n",
    "equation, $$\n",
    "y_i = mx_i + c + \\epsilon_i.\n",
    "$$\n",
    "\n",
    "<!--  -->"
   ]
  },
  {
   "cell_type": "markdown",
   "metadata": {},
   "source": [
    "Underdetermined System\n",
    "======================\n",
    "\n",
    "What about the situation where you have more parameters than data in\n",
    "your simultaneous equation? This is known as an *underdetermined*\n",
    "system. In fact this set up is in some sense *easier* to solve, because\n",
    "we don’t need to think about introducing a slack variable (although it\n",
    "might make a lot of sense from a *modelling* perspective to do so).\n",
    "\n",
    "The way Laplace proposed resolving an overdetermined system, was to\n",
    "introduce slack variables, $\\epsilon_i$, which needed to be estimated\n",
    "for each point. The slack variable represented the difference between\n",
    "our actual prediction and the true observation. This is known as the\n",
    "*residual*. By introducing the slack variable we now have an additional\n",
    "$n$ variables to estimate, one for each data point, $\\{\\epsilon_i\\}$.\n",
    "This actually turns the overdetermined system into an underdetermined\n",
    "system. Introduction of $n$ variables, plus the original $m$ and $c$\n",
    "gives us $n+2$ parameters to be estimated from $n$ observations, which\n",
    "actually makes the system *underdetermined*. However, we then made a\n",
    "probabilistic assumption about the slack variables, we assumed that the\n",
    "slack variables were distributed according to a probability density. And\n",
    "for the moment we have been assuming that density was the Gaussian,\n",
    "$$\\epsilon_i \\sim \\mathcal{N}\\left(0,\\sigma^2\\right),$$ with zero mean\n",
    "and variance $\\sigma^2$.\n",
    "\n",
    "The follow up question is whether we can do the same thing with the\n",
    "parameters. If we have two parameters and only one unknown can we place\n",
    "a probability distribution over the parameters, as we did with the slack\n",
    "variables? The answer is yes."
   ]
  },
  {
   "cell_type": "markdown",
   "metadata": {},
   "source": [
    "Underdetermined System\n",
    "----------------------"
   ]
  },
  {
   "cell_type": "code",
   "execution_count": null,
   "metadata": {},
   "outputs": [],
   "source": [
    "import pods\n",
    "from ipywidgets import IntSlider"
   ]
  },
  {
   "cell_type": "code",
   "execution_count": null,
   "metadata": {},
   "outputs": [],
   "source": [
    "pods.notebook.display_plots('under_determined_system{samp:0>3}.svg', \n",
    "                            directory='./ml', samp=IntSlider(0, 0, 10, 1))"
   ]
  },
  {
   "cell_type": "markdown",
   "metadata": {},
   "source": [
    "<img src=\"http://inverseprobability.com/talks/slides/../slides/diagrams/ml/under_determined_system009.svg\" class=\"\" width=\"40%\" style=\"vertical-align:middle;\">\n",
    "\n",
    "Figure: <i>An underdetermined system can be fit by considering\n",
    "uncertainty. Multiple solutions are consistent with one specified\n",
    "point.</i>"
   ]
  },
  {
   "cell_type": "markdown",
   "metadata": {},
   "source": [
    "A Philosophical Dispute: Probabilistic Treatment of Parameters?\n",
    "---------------------------------------------------------------\n",
    "\n",
    "From a philosophical perspective placing a probability distribution over\n",
    "the *parameters* is known as the *Bayesian* approach. This is because\n",
    "Thomas Bayes, in a [1763\n",
    "essay](http://en.wikipedia.org/wiki/An_Essay_towards_solving_a_Problem_in_the_Doctrine_of_Chances)\n",
    "published at the Royal Society introduced the [Bernoulli\n",
    "distribution](http://en.wikipedia.org/wiki/Bernoulli_distribution) with\n",
    "a probabilistic interpretation for the *parameters*. Later statisticians\n",
    "such as [Ronald Fisher](http://en.wikipedia.org/wiki/Ronald_Fisher)\n",
    "objected to the use of probability distributions for *parameters*, and\n",
    "so in an effort to discredit the approach the referred to it as\n",
    "Bayesian. However, the earliest practioners of modelling, such as\n",
    "Laplace applied the approach as the most natural thing to do for dealing\n",
    "with unknowns (whether they were parameters or variables).\n",
    "Unfortunately, this dispute led to a split in the modelling community\n",
    "that still has echoes today. It is known as the Bayesian vs Frequentist\n",
    "controversy. From my own perspective, I think that it is a false\n",
    "dichotomy, and that the two approaches are actually complementary. My\n",
    "own focus research focus is on *modelling* and in that context, the use\n",
    "of probability is vital. For frequenstist statisticians, such as Fisher,\n",
    "the emphasis was on the value of the evidence in the data for a\n",
    "particular hypothesis. This is known as hypothesis testing. The two\n",
    "approaches can be unified because one of the most important approaches\n",
    "to hypothesis testing is to [compute the ratio of the\n",
    "likelihoods](http://en.wikipedia.org/wiki/Likelihood-ratio_test), and\n",
    "the result of applying a probability distribution to the parameters is\n",
    "merely to arrive at a different form of the likelihood."
   ]
  },
  {
   "cell_type": "markdown",
   "metadata": {},
   "source": [
    "The Bayesian Controversy: Philosophical Underpinnings\n",
    "-----------------------------------------------------\n",
    "\n",
    "A segment from the lecture in 2012 on philsophical underpinnings."
   ]
  },
  {
   "cell_type": "code",
   "execution_count": null,
   "metadata": {},
   "outputs": [],
   "source": [
    "from IPython.lib.display import YouTubeVideo\n",
    "YouTubeVideo('AvlnFnvFw_0')"
   ]
  },
  {
   "cell_type": "markdown",
   "metadata": {},
   "source": [
    "Figure: <i>The philosophical underpinnings of uncertainty, as discussed\n",
    "in 2012 MLAI lecture.</i>"
   ]
  },
  {
   "cell_type": "markdown",
   "metadata": {},
   "source": [
    "Further Reading\n",
    "---------------\n",
    "\n",
    "-   Section 1.2.3 (pg 21–24) of Bishop (2006)\n",
    "\n",
    "-   Sections 3.1-3.4 (pg 95-117) of Rogers and Girolami (2011)\n",
    "\n",
    "-   Section 1.2.3 (pg 21–24) of Bishop (2006)\n",
    "\n",
    "-   Section 1.2.6 (start from just past eq 1.64 pg 30-32) of\n",
    "    Bishop (2006)"
   ]
  },
  {
   "cell_type": "markdown",
   "metadata": {},
   "source": [
    "Sum of Squares and Probability\n",
    "------------------------------\n",
    "\n",
    "In the overdetermined system we introduced a new set of slack variables,\n",
    "$\\{\\epsilon_i\\}_{i=1}^n$, on top of our parameters $m$ and $c$. We dealt\n",
    "with the variables by placing a probability distribution over them. This\n",
    "gives rise to the likelihood and for the case of Gaussian distributed\n",
    "variables, it gives rise to the sum of squares error. It was Gauss who\n",
    "first made this connection in his volume on *Theoria Motus Corprum\n",
    "Coelestium* (Gauss, 1809) (written in Latin)"
   ]
  },
  {
   "cell_type": "code",
   "execution_count": null,
   "metadata": {},
   "outputs": [],
   "source": [
    "import pods\n",
    "pods.notebook.display_google_book(id='ORUOAAAAQAAJ', page='PA213')"
   ]
  },
  {
   "cell_type": "markdown",
   "metadata": {},
   "source": [
    "Figure: <i>Gauss’s book *Theoria Motus Corprum Coelestium* (Gauss, 1809)\n",
    "motivates the use of least squares through a probabilistic\n",
    "forumation.</i>\n",
    "\n",
    "The relevant section roughly translates as\n",
    "\n",
    "> … It is clear, that for the product\n",
    "> $\\Omega = h^\\mu \\pi^{-\\frac{1}{2}\\mu} e^{-hh(vv + v^\\prime v^\\prime + v^{\\prime\\prime} v^{\\prime\\prime} + \\dots)}$\n",
    "> to be maximised the sum\n",
    "> $vv + v ^\\prime v^\\prime + v^{\\prime\\prime} v^{\\prime\\prime} + \\text{etc}.$\n",
    "> ought to be minimized. *Therefore, the most probable values of the\n",
    "> unknown quantities $p , q, r , s \\text{etc}.$, should be that in which\n",
    "> the sum of the squares of the differences between the functions\n",
    "> $V, V^\\prime, V^{\\prime\\prime} \\text{etc}$, and the observed values is\n",
    "> minimized*, for all observations of the same degree of precision is\n",
    "> presumed.\n",
    "\n",
    "It’s on the strength of this paragraph that the density is known as the\n",
    "Gaussian, despite the fact that four pages later Gauss credits the\n",
    "necessary integral for the density to Laplace, and it was also Laplace\n",
    "that did a lot of the original work on dealing with these errors through\n",
    "probability. [Stephen Stigler’s book on the measurement of uncertainty\n",
    "before 1900](http://www.hup.harvard.edu/catalog.php?isbn=9780674403413)\n",
    "(Stigler, 1999) has a nice chapter on this."
   ]
  },
  {
   "cell_type": "code",
   "execution_count": null,
   "metadata": {},
   "outputs": [],
   "source": [
    "import pods\n",
    "pods.notebook.display_google_book(id='ORUOAAAAQAAJ', page='PA217')"
   ]
  },
  {
   "cell_type": "markdown",
   "metadata": {},
   "source": [
    "Figure: <i>Gauss credits Laplace with the invention of the Gaussian\n",
    "density here.</i>\n",
    "\n",
    "where the crediting to the Laplace is about halfway through the last\n",
    "paragraph. This book was published in 1809, four years after in an\n",
    "appendix to one of his chapters on the orbit of comets. Gauss goes on to\n",
    "make a claim for priority on the method on page 221 (towards the end of\n",
    "the first paragraph …)."
   ]
  },
  {
   "cell_type": "code",
   "execution_count": null,
   "metadata": {},
   "outputs": [],
   "source": [
    "import pods\n",
    "pods.notebook.display_google_book(id='ORUOAAAAQAAJ', page='PA221')"
   ]
  },
  {
   "cell_type": "markdown",
   "metadata": {},
   "source": [
    "Figure: <i>Gauss places his claim for priority on least squares over\n",
    "Legendre who published first. Gauss claims he used least squares for his\n",
    "prediction of the location of Ceres.</i>"
   ]
  },
  {
   "cell_type": "markdown",
   "metadata": {},
   "source": [
    "The Bayesian Approach\n",
    "---------------------\n",
    "\n",
    "Now we will study Bayesian approaches to regression. In the Bayesian\n",
    "approach we define a *prior* density over our parameters, $m$ and $c$ or\n",
    "more generally $\\mathbf{ w}$. This prior distribution gives us a range\n",
    "of expected values for our parameter *before* we have seen the data. The\n",
    "object in Bayesian inference is to then compute the*posterior* density\n",
    "which is the effect on the density of having observed the data. In\n",
    "standard probability notation we write the prior distribution as, $$\n",
    "p(\\mathbf{ w}),\n",
    "$$ so it is the *marginal* distribution for the parameters, i.e. the\n",
    "distribution we have for the parameters without any knowledge about the\n",
    "data. The posterior distribution is written as, $$\n",
    "p(\\mathbf{ w}|\\mathbf{ y}, \\mathbf{X}).\n",
    "$$ So the posterior distribution is the *conditional* distribution for\n",
    "the parameters given the data (which in this case consists of pairs of\n",
    "observations including response variables (or targets), $y_i$, and\n",
    "covariates (or inputs) $\\mathbf{ x}_i$. Where here we are allowing the\n",
    "inputs to be multivariate.\n",
    "\n",
    "The posterior is recovered from the prior using *Bayes’ rule*. Which is\n",
    "simply a rewriting of the product rule. We can recover Bayes’ rule as\n",
    "follows. The product rule of probability tells us that the joint\n",
    "distribution is given as the product of the conditional and the\n",
    "marginal. Dropping the inputs from our conditioning for the moment we\n",
    "have, $$\n",
    "p(\\mathbf{ w}, \\mathbf{ y})=p(\\mathbf{ y}|\\mathbf{ w})p(\\mathbf{ w}),\n",
    "$$ where we see we have related the joint density to the prior density\n",
    "and the *likelihood* from our previous investigation of regression, $$\n",
    "p(\\mathbf{ y}|\\mathbf{ w}) = \\prod_{i=1}^n\\mathcal{N}\\left(y_i|\\mathbf{ w}^\\top \\mathbf{ x}_i, \\sigma^2\\right)\n",
    "$$ which arises from the assumption that our observation is given by $$\n",
    "y_i = \\mathbf{ w}^\\top \\mathbf{ x}_i + \\epsilon_i.\n",
    "$$ In other words this is the Gaussian likelihood we have been fitting\n",
    "by minimizing the sum of squares. Have a look at [the session on\n",
    "multivariate regression](./03-linear-regression.html) as a reminder.\n",
    "\n",
    "We’ve introduce the likelihood, but we don’t have relationship with the\n",
    "posterior, however, the product rule can also be written in the\n",
    "following way $$\n",
    "p(\\mathbf{ w}, \\mathbf{ y}) = p(\\mathbf{ w}|\\mathbf{ y})p(\\mathbf{ y}),\n",
    "$$ where here we have simply used the opposite conditioning. We’ve\n",
    "already introduced the *posterior* density above. This is the density\n",
    "that represents our belief about the parameters *after* observing the\n",
    "data. This is combined with the *marginal likelihood*, sometimes also\n",
    "known as the evidence. It is the marginal likelihood, because it is the\n",
    "original likelihood of the data with the parameters marginalised,\n",
    "$p(\\mathbf{ y})$. Here it’s conditioned on nothing, but in practice you\n",
    "should always remember that everything here is conditioned on things\n",
    "like model choice: which set of basis functions. Because it’s a\n",
    "regression problem, its also conditioned on the inputs. Using the\n",
    "equalitybetween the two different forms of the joint density we recover\n",
    "$$\n",
    "p(\\mathbf{ w}|\\mathbf{ y}) = \\frac{p(\\mathbf{ y}|\\mathbf{ w})p(\\mathbf{ w})}{p(\\mathbf{ y})}\n",
    "$$ where we divided both sides by $p(\\mathbf{ y})$ to recover this\n",
    "result. Let’s re-introduce the conditioning on the input locations (or\n",
    "covariates), $\\mathbf{X}$ to write the full form of Bayes’ rule for the\n",
    "regression problem. $$\n",
    "p(\\mathbf{ w}|\\mathbf{ y}, \\mathbf{X}) = \\frac{p(\\mathbf{ y}|\\mathbf{ w}, \\mathbf{X})p(\\mathbf{ w})}{p(\\mathbf{ y}|\\mathbf{X})}\n",
    "$$ where the posterior density for the parameters given the data is\n",
    "$p(\\mathbf{ w}|\\mathbf{ y}, \\mathbf{X})$, the marginal likelihood is\n",
    "$p(\\mathbf{ y}|\\mathbf{X})$, the prior density is $p(\\mathbf{ w})$ and\n",
    "our original regression likelihood is given by\n",
    "$p(\\mathbf{ y}|\\mathbf{ w}, \\mathbf{X})$. It turns out that to compute\n",
    "the posterior the only things we need to do are define the prior and the\n",
    "likelihood. The other term on the right hand side can be computed by\n",
    "*the sum rule*. It is one of the key equations of Bayesian inference,\n",
    "the expectation of the likelihood under the prior, this process is known\n",
    "as marginalisation, $$\n",
    "p(\\mathbf{ y}|\\mathbf{X}) = \\int p(\\mathbf{ y}|\\mathbf{ w},\\mathbf{X})p(\\mathbf{ w}) \\text{d}\\mathbf{ w}\n",
    "$$ I like the term marginalisation, and the description of the\n",
    "probability as the *marginal likelihood*, because (for me) it somewhat\n",
    "has the implication that the variable name has been removed, and\n",
    "(perhaps) written in the margin. Marginalisation of a variable goes from\n",
    "a likelihood where the variable is in place, to a new likelihood where\n",
    "all possible values of that variable (under the prior) have been\n",
    "considered and weighted in the integral. This implies that all we need\n",
    "for specifying our model is to define the likelihood and the prior. We\n",
    "already have our likelihood from our earlier discussion, so our focus\n",
    "now turns to the prior density."
   ]
  },
  {
   "cell_type": "markdown",
   "metadata": {},
   "source": [
    "Prior Distribution\n",
    "------------------\n",
    "\n",
    "The tradition in Bayesian inference is to place a probability density\n",
    "over the parameters of interest in your model. This choice is made\n",
    "regardless of whether you generally believe those parameters to be\n",
    "stochastic or deterministic in origin. In other words, to a Bayesian,\n",
    "the modelling treatment does not differentiate between epistemic and\n",
    "aleatoric uncertainty. For linear regression we could consider the\n",
    "following Gaussian prior on the intercept parameter,\n",
    "$$c \\sim \\mathcal{N}\\left(0,\\alpha_1\\right)$$ where $\\alpha_1$ is the\n",
    "variance of the prior distribution, its mean being zero."
   ]
  },
  {
   "cell_type": "markdown",
   "metadata": {},
   "source": [
    "Posterior Distribution\n",
    "----------------------\n",
    "\n",
    "The prior distribution is combined with the likelihood of the data given\n",
    "the parameters $p(y|c)$ to give the posterior via *Bayes’ rule*, $$\n",
    "  p(c|y) = \\frac{p(y|c)p(c)}{p(y)}\n",
    "  $$ where $p(y)$ is the marginal probability of the data, obtained\n",
    "through integration over the joint density, $p(y, c)=p(y|c)p(c)$.\n",
    "Overall the equation can be summarized as, $$\n",
    "  \\text{posterior} = \\frac{\\text{likelihood}\\times \\text{prior}}{\\text{marginal likelihood}}.\n",
    "  $$"
   ]
  },
  {
   "cell_type": "code",
   "execution_count": null,
   "metadata": {},
   "outputs": [],
   "source": [
    "from ipywidgets import IntSlider\n",
    "import pods"
   ]
  },
  {
   "cell_type": "code",
   "execution_count": null,
   "metadata": {},
   "outputs": [],
   "source": [
    "pods.notebook.display_plots('dem_gaussian{stage:0>2}.svg', \n",
    "                            diagrams='./ml', \n",
    "                            stage=IntSlider(1, 1, 3, 1))"
   ]
  },
  {
   "cell_type": "markdown",
   "metadata": {},
   "source": [
    "<img src=\"http://inverseprobability.com/talks/slides/../slides/diagrams/ml/dem_gaussian003.svg\" class=\"\" width=\"70%\" style=\"vertical-align:middle;\">\n",
    "\n",
    "Figure: <i>Combining a Gaussian likelihood with a Gaussian prior to form\n",
    "a Gaussian posterior</i>\n",
    "\n",
    "Another way of seeing what’s going on is to note that the numerator of\n",
    "Bayes’ rule merely multiplies the likelihood by the prior. The\n",
    "denominator, is not a function of $c$. So the functional form is\n",
    "entirely determined by the multiplication of prior and likelihood. This\n",
    "has the effect of ensuring that the posterior only has probability mass\n",
    "in regions where both the prior and the likelihood have probability\n",
    "mass.\n",
    "\n",
    "The marginal likelihood, $p(y)$, operates to ensure that the\n",
    "distribution is normalised.\n",
    "\n",
    "For the Gaussian case, the normalisation of the posterior can be\n",
    "performed analytically. This is because both the prior and the\n",
    "likelihood have the form of an *exponentiated quadratic*, $$\n",
    "\\exp(a^2)\\exp(b^2) = \\exp(a^2 + b^2),\n",
    "$$ and the properties of the exponential mean that the product of two\n",
    "exponentiated quadratics is also an exponentiated quadratic. That\n",
    "implies that the posterior is also Gaussian, because a normalized\n",
    "exponentiated quadratic is a Gaussian distribution.[1]\n",
    "\n",
    "$$p(c) = \\frac{1}{\\sqrt{2\\pi\\alpha_1}} \\exp\\left(-\\frac{1}{2\\alpha_1}c^2\\right)$$\n",
    "$$p(\\mathbf{ y}|\\mathbf{ x}, c, m, \\sigma^2) = \\frac{1}{\\left(2\\pi\\sigma^2\\right)^{\\frac{n}{2}}} \\exp\\left(-\\frac{1}{2\\sigma^2}\\sum_{i=1}^n(y_i - mx_i - c)^2\\right)$$\n",
    "\n",
    "$$p(c| \\mathbf{ y}, \\mathbf{ x}, m, \\sigma^2) = \\frac{p(\\mathbf{ y}|\\mathbf{ x}, c, m, \\sigma^2)p(c)}{p(\\mathbf{ y}|\\mathbf{ x}, m, \\sigma^2)}$$\n",
    "\n",
    "$$p(c| \\mathbf{ y}, \\mathbf{ x}, m, \\sigma^2) =  \\frac{p(\\mathbf{ y}|\\mathbf{ x}, c, m, \\sigma^2)p(c)}{\\int p(\\mathbf{ y}|\\mathbf{ x}, c, m, \\sigma^2)p(c) \\text{d} c}$$\n",
    "\n",
    "$$p(c| \\mathbf{ y}, \\mathbf{ x}, m, \\sigma^2) \\propto  p(\\mathbf{ y}|\\mathbf{ x}, c, m, \\sigma^2)p(c)$$\n",
    "\n",
    "$$\\begin{aligned}\n",
    "    \\log p(c | \\mathbf{ y}, \\mathbf{ x}, m, \\sigma^2) =&-\\frac{1}{2\\sigma^2} \\sum_{i=1}^n(y_i-c - mx_i)^2-\\frac{1}{2\\alpha_1} c^2 + \\text{const}\\\\\n",
    "     = &-\\frac{1}{2\\sigma^2}\\sum_{i=1}^n(y_i-mx_i)^2 -\\left(\\frac{n}{2\\sigma^2} + \\frac{1}{2\\alpha_1}\\right)c^2\\\\\n",
    "    & + c\\frac{\\sum_{i=1}^n(y_i-mx_i)}{\\sigma^2},\n",
    "  \\end{aligned}$$\n",
    "\n",
    "complete the square of the quadratic form to obtain\n",
    "$$\\log p(c | \\mathbf{ y}, \\mathbf{ x}, m, \\sigma^2) = -\\frac{1}{2\\tau^2}(c - \\mu)^2 +\\text{const},$$\n",
    "where $\\tau^2 = \\left(n\\sigma^{-2} +\\alpha_1^{-1}\\right)^{-1}$ and\n",
    "$\\mu = \\frac{\\tau^2}{\\sigma^2} \\sum_{i=1}^n(y_i-mx_i)$.\n",
    "\n",
    "[1] Note not all exponentiated quadratics can be normalized, to do so,\n",
    "the coefficient associated with the variable squared, $y^2$, must be\n",
    "strictly positive."
   ]
  },
  {
   "cell_type": "markdown",
   "metadata": {},
   "source": [
    "The Joint Density\n",
    "-----------------\n",
    "\n",
    "-   Really want to know the *joint* posterior density over the\n",
    "    parameters $c$ *and* $m$.\n",
    "-   Could now integrate out over $m$, but it’s easier to consider the\n",
    "    multivariate case."
   ]
  },
  {
   "cell_type": "markdown",
   "metadata": {},
   "source": [
    "Two Dimensional Gaussian\n",
    "------------------------\n",
    "\n",
    "Consider the distribution of height (in meters) of an adult male human\n",
    "population. We will approximate the marginal density of heights as a\n",
    "Gaussian density with mean given by $1.7\\text{m}$ and a standard\n",
    "deviation of $0.15\\text{m}$, implying a variance of $\\sigma^2=0.0225$,\n",
    "$$\n",
    "  p(h) \\sim \\mathcal{N}\\left(1.7,0.0225\\right).\n",
    "  $$ Similarly, we assume that weights of the population are distributed\n",
    "a Gaussian density with a mean of $75 \\text{kg}$ and a standard\n",
    "deviation of $6 kg$ (implying a variance of 36), $$\n",
    "  p(w) \\sim \\mathcal{N}\\left(75,36\\right).\n",
    "  $$\n",
    "\n",
    "<img src=\"http://inverseprobability.com/talks/slides/../slides/diagrams/ml/height_weight_gaussian.svg\" class=\"\" width=\"70%\" style=\"vertical-align:middle;\">\n",
    "\n",
    "Figure: <i>Gaussian distributions for height and weight.</i>"
   ]
  },
  {
   "cell_type": "markdown",
   "metadata": {},
   "source": [
    "Independence Assumption\n",
    "-----------------------\n",
    "\n",
    "First of all, we make an independence assumption, we assume that height\n",
    "and weight are independent. The definition of probabilistic independence\n",
    "is that the joint density, $p(w, h)$, factorizes into its marginal\n",
    "densities, $$\n",
    "  p(w, h) = p(w)p(h).\n",
    "  $$ Given this assumption we can sample from the joint distribution by\n",
    "independently sampling weights and heights."
   ]
  },
  {
   "cell_type": "code",
   "execution_count": null,
   "metadata": {},
   "outputs": [],
   "source": [
    "import pods\n",
    "from ipywidgets import IntSlider"
   ]
  },
  {
   "cell_type": "code",
   "execution_count": null,
   "metadata": {},
   "outputs": [],
   "source": [
    "pods.notebook.display_plots('independent_height_weight{fig:0>3}.svg', \n",
    "                            directory='./ml', \n",
    "                            fig=IntSlider(0, 0, 7, 1))"
   ]
  },
  {
   "cell_type": "markdown",
   "metadata": {},
   "source": [
    "<img src=\"http://inverseprobability.com/talks/slides/../slides/diagrams/ml/independent_height_weight007.svg\" class=\"\" width=\"70%\" style=\"vertical-align:middle;\">\n",
    "\n",
    "Figure: <i>Samples from independent Gaussian variables that might\n",
    "represent heights and weights.</i>\n",
    "\n",
    "In reality height and weight are *not* independent. Taller people tend\n",
    "on average to be heavier, and heavier people are likely to be taller.\n",
    "This is reflected by the *body mass index*. A ratio suggested by one of\n",
    "the fathers of statistics, Adolphe Quetelet. Quetelet was interested in\n",
    "the notion of the *average man* and collected various statistics about\n",
    "people. He defined the BMI to be, $$\n",
    "\\text{BMI} = \\frac{w}{h^2}\n",
    "$$To deal with this dependence we now introduce the notion of\n",
    "*correlation* to the multivariate Gaussian density."
   ]
  },
  {
   "cell_type": "markdown",
   "metadata": {},
   "source": [
    "Sampling Two Dimensional Variables\n",
    "----------------------------------"
   ]
  },
  {
   "cell_type": "code",
   "execution_count": null,
   "metadata": {},
   "outputs": [],
   "source": [
    "import pods\n",
    "from ipywidgets import IntSlider"
   ]
  },
  {
   "cell_type": "code",
   "execution_count": null,
   "metadata": {},
   "outputs": [],
   "source": [
    "pods.notebook.display_plots('correlated_height_weight{fig:0>3}.svg', \n",
    "                            directory='./ml', \n",
    "                            fig=IntSlider(0, 0, 7, 1))"
   ]
  },
  {
   "cell_type": "markdown",
   "metadata": {},
   "source": [
    "<img src=\"http://inverseprobability.com/talks/slides/../slides/diagrams/ml/correlated_height_weight007.svg\" class=\"\" width=\"70%\" style=\"vertical-align:middle;\">\n",
    "\n",
    "Figure: <i>Samples from *correlated* Gaussian variables that might\n",
    "represent heights and weights.</i>"
   ]
  },
  {
   "cell_type": "markdown",
   "metadata": {},
   "source": [
    "Independent Gaussians\n",
    "---------------------\n",
    "\n",
    "$$\n",
    "p(w, h) = p(w)p(h)\n",
    "$$\n",
    "\n",
    "$$\n",
    "p(w, h) = \\frac{1}{\\sqrt{2\\pi \\sigma_1^2}\\sqrt{2\\pi\\sigma_2^2}} \\exp\\left(-\\frac{1}{2}\\left(\\frac{(w-\\mu_1)^2}{\\sigma_1^2} + \\frac{(h-\\mu_2)^2}{\\sigma_2^2}\\right)\\right)\n",
    "$$\n",
    "\n",
    "$$\n",
    "p(w, h) = \\frac{1}{\\sqrt{2\\pi\\sigma_1^22\\pi\\sigma_2^2}} \\exp\\left(-\\frac{1}{2}\\left(\\begin{bmatrix}w \\\\ h\\end{bmatrix} - \\begin{bmatrix}\\mu_1 \\\\ \\mu_2\\end{bmatrix}\\right)^\\top\\begin{bmatrix}\\sigma_1^2& 0\\\\0&\\sigma_2^2\\end{bmatrix}^{-1}\\left(\\begin{bmatrix}w \\\\ h\\end{bmatrix} - \\begin{bmatrix}\\mu_1 \\\\ \\mu_2\\end{bmatrix}\\right)\\right)\n",
    "$$\n",
    "\n",
    "$$\n",
    "p(\\mathbf{ y}) = \\frac{1}{\\left|2\\pi \\mathbf{D}\\right|^{\\frac{1}{2}}} \\exp\\left(-\\frac{1}{2}(\\mathbf{ y}- \\boldsymbol{ \\mu})^\\top\\mathbf{D}^{-1}(\\mathbf{ y}- \\boldsymbol{ \\mu})\\right)\n",
    "$$"
   ]
  },
  {
   "cell_type": "markdown",
   "metadata": {},
   "source": [
    "Correlated Gaussian\n",
    "-------------------\n",
    "\n",
    "Form correlated from original by rotating the data space using matrix\n",
    "$\\mathbf{R}$.\n",
    "\n",
    "$$\n",
    "p(\\mathbf{ y}) = \\frac{1}{\\left|2\\pi\\mathbf{D}\\right|^{\\frac{1}{2}}} \\exp\\left(-\\frac{1}{2}(\\mathbf{ y}- \\boldsymbol{ \\mu})^\\top\\mathbf{D}^{-1}(\\mathbf{ y}- \\boldsymbol{ \\mu})\\right)\n",
    "$$\n",
    "\n",
    "$$\n",
    "p(\\mathbf{ y}) = \\frac{1}{\\left|2\\pi\\mathbf{D}\\right|^{\\frac{1}{2}}} \\exp\\left(-\\frac{1}{2}(\\mathbf{R}^\\top\\mathbf{ y}- \\mathbf{R}^\\top\\boldsymbol{ \\mu})^\\top\\mathbf{D}^{-1}(\\mathbf{R}^\\top\\mathbf{ y}- \\mathbf{R}^\\top\\boldsymbol{ \\mu})\\right)\n",
    "$$\n",
    "\n",
    "$$\n",
    "p(\\mathbf{ y}) = \\frac{1}{\\left|2\\pi\\mathbf{D}\\right|^{\\frac{1}{2}}} \\exp\\left(-\\frac{1}{2}(\\mathbf{ y}- \\boldsymbol{ \\mu})^\\top\\mathbf{R}\\mathbf{D}^{-1}\\mathbf{R}^\\top(\\mathbf{ y}- \\boldsymbol{ \\mu})\\right)\n",
    "$$ this gives a covariance matrix: $$\n",
    "\\mathbf{C}^{-1} = \\mathbf{R}\\mathbf{D}^{-1} \\mathbf{R}^\\top\n",
    "$$\n",
    "\n",
    "$$\n",
    "p(\\mathbf{ y}) = \\frac{1}{\\left|2\\pi\\mathbf{C}\\right|^{\\frac{1}{2}}} \\exp\\left(-\\frac{1}{2}(\\mathbf{ y}- \\boldsymbol{ \\mu})^\\top\\mathbf{C}^{-1} (\\mathbf{ y}- \\boldsymbol{ \\mu})\\right)\n",
    "$$ this gives a covariance matrix: $$\n",
    "\\mathbf{C}= \\mathbf{R}\\mathbf{D} \\mathbf{R}^\\top\n",
    "$$"
   ]
  },
  {
   "cell_type": "markdown",
   "metadata": {},
   "source": [
    "The Prior Density\n",
    "-----------------\n",
    "\n",
    "Let’s assume that the prior density is given by a zero mean Gaussian,\n",
    "which is independent across each of the parameters, $$\n",
    "\\mathbf{ w}\\sim \\mathcal{N}\\left(\\mathbf{0},\\alpha \\mathbf{I}\\right)\n",
    "$$ In other words, we are assuming, for the prior, that each element of\n",
    "the parameters vector, $w_i$, was drawn from a Gaussian density as\n",
    "follows $$\n",
    "w_i \\sim \\mathcal{N}\\left(0,\\alpha\\right)\n",
    "$$ Let’s start by assigning the parameter of the prior distribution,\n",
    "which is the variance of the prior distribution, $\\alpha$."
   ]
  },
  {
   "cell_type": "code",
   "execution_count": null,
   "metadata": {},
   "outputs": [],
   "source": [
    "# set prior variance on w\n",
    "alpha = 4.\n",
    "# set the order of the polynomial basis set\n",
    "order = 5\n",
    "# set the noise variance\n",
    "sigma2 = 0.01"
   ]
  },
  {
   "cell_type": "markdown",
   "metadata": {},
   "source": [
    "Further Reading\n",
    "---------------\n",
    "\n",
    "-   Multivariate Gaussians: Section 2.3 up to top of pg 85 of\n",
    "    Bishop (2006)\n",
    "\n",
    "-   Section 3.3 up to 159 (pg 152–159) of Bishop (2006)"
   ]
  },
  {
   "cell_type": "markdown",
   "metadata": {},
   "source": [
    "Generating from the Model\n",
    "-------------------------\n",
    "\n",
    "A very important aspect of probabilistic modelling is to *sample* from\n",
    "your model to see what type of assumptions you are making about your\n",
    "data. In this case that involves a two stage process.\n",
    "\n",
    "1.  Sample a candiate parameter vector from the prior.\n",
    "2.  Place the candidate parameter vector in the likelihood and sample\n",
    "    functions conditiond on that candidate vector.\n",
    "3.  Repeat to try and characterise the type of functions you are\n",
    "    generating.\n",
    "\n",
    "Given a prior variance (as defined above) we can now sample from the\n",
    "prior distribution and combine with a basis set to see what assumptions\n",
    "we are making about the functions *a priori* (i.e. before we’ve seen the\n",
    "data). Firstly we compute the basis function matrix. We will do it both\n",
    "for our training data, and for a range of prediction locations\n",
    "(`x_pred`)."
   ]
  },
  {
   "cell_type": "code",
   "execution_count": null,
   "metadata": {},
   "outputs": [],
   "source": [
    "import numpy as np\n",
    "import pods"
   ]
  },
  {
   "cell_type": "code",
   "execution_count": null,
   "metadata": {},
   "outputs": [],
   "source": [
    "data = pods.datasets.olympic_marathon_men()\n",
    "x = data['X']\n",
    "y = data['Y']\n",
    "num_data = x.shape[0]\n",
    "num_pred_data = 100 # how many points to use for plotting predictions\n",
    "x_pred = np.linspace(1890, 2016, num_pred_data)[:, None] # input locations for predictions"
   ]
  },
  {
   "cell_type": "markdown",
   "metadata": {},
   "source": [
    "now let’s build the basis matrices. We define the polynomial basis as\n",
    "follows."
   ]
  },
  {
   "cell_type": "code",
   "execution_count": null,
   "metadata": {},
   "outputs": [],
   "source": [
    "def polynomial(x, num_basis=2, loc=0., scale=1.):\n",
    "    degree=num_basis-1\n",
    "    degrees = np.arange(degree+1)\n",
    "    return ((x-loc)/scale)**degrees"
   ]
  },
  {
   "cell_type": "code",
   "execution_count": null,
   "metadata": {},
   "outputs": [],
   "source": [
    "import mlai"
   ]
  },
  {
   "cell_type": "code",
   "execution_count": null,
   "metadata": {},
   "outputs": [],
   "source": [
    "loc=1950\n",
    "scale=1\n",
    "degree=4\n",
    "basis = mlai.Basis(polynomial, number=degree+1, loc=loc, scale=scale)\n",
    "Phi_pred = basis.Phi(x_pred)\n",
    "Phi = basis.Phi(x)"
   ]
  },
  {
   "cell_type": "markdown",
   "metadata": {},
   "source": [
    "Sampling from the Prior\n",
    "-----------------------\n",
    "\n",
    "Now we will sample from the prior to produce a vector $\\mathbf{ w}$ and\n",
    "use it to plot a function which is representative of our belief *before*\n",
    "we fit the data. To do this we are going to use the properties of the\n",
    "Gaussian density and a sample from a *standard normal* using the\n",
    "function `np.random.normal`."
   ]
  },
  {
   "cell_type": "markdown",
   "metadata": {},
   "source": [
    "Scaling Gaussian-distributed Variables\n",
    "--------------------------------------\n",
    "\n",
    "First, let’s consider the case where we have one data point and one\n",
    "feature in our basis set. In otherwords $\\mathbf{ f}$ would be a scalar,\n",
    "$\\mathbf{ w}$ would be a scalar and $\\boldsymbol{ \\Phi}$ would be a\n",
    "scalar. In this case we have $$\n",
    "f= \\phi w\n",
    "$$ If $w$ is drawn from a normal density, $$\n",
    "w\\sim \\mathcal{N}\\left(\\mu_w,c_w\\right)\n",
    "$$ and $\\phi$ is a scalar value which we are given, then properties of\n",
    "the Gaussian density tell us that $$\n",
    "\\phi w\\sim \\mathcal{N}\\left(\\phi\\mu_w,\\phi^2c_w\\right)\n",
    "$$ Let’s test this out numerically. First we will draw 200 samples from\n",
    "a standard normal,"
   ]
  },
  {
   "cell_type": "code",
   "execution_count": null,
   "metadata": {},
   "outputs": [],
   "source": [
    "w_vec = np.random.normal(size=200)"
   ]
  },
  {
   "cell_type": "markdown",
   "metadata": {},
   "source": [
    "We can compute the mean of these samples and their variance"
   ]
  },
  {
   "cell_type": "code",
   "execution_count": null,
   "metadata": {},
   "outputs": [],
   "source": [
    "print('w sample mean is ', w_vec.mean())\n",
    "print('w sample variance is ', w_vec.var())"
   ]
  },
  {
   "cell_type": "markdown",
   "metadata": {},
   "source": [
    "These are close to zero (the mean) and one (the variance) as you’d\n",
    "expect. Now compute the mean and variance of the scaled version,"
   ]
  },
  {
   "cell_type": "code",
   "execution_count": null,
   "metadata": {},
   "outputs": [],
   "source": [
    "phi = 7\n",
    "f_vec = phi*w_vec\n",
    "print('True mean should be phi*0 = 0.')\n",
    "print('True variance should be phi*phi*1 = ', phi*phi)\n",
    "print('f sample mean is ', f_vec.mean())\n",
    "print('f sample variance is ', f_vec.var())"
   ]
  },
  {
   "cell_type": "markdown",
   "metadata": {},
   "source": [
    "If you increase the number of samples then you will see that the sample\n",
    "mean and the sample variance begin to converge towards the true mean and\n",
    "the true variance. Obviously adding an offset to a sample from\n",
    "`np.random.normal` will change the mean. So if you want to sample from a\n",
    "Gaussian with mean `mu` and standard deviation `sigma` one way of doing\n",
    "it is to sample from the standard normal and scale and shift the result,\n",
    "so to sample a set of $w$ from a Gaussian with mean $\\mu$ and variance\n",
    "$\\alpha$, $$w\\sim \\mathcal{N}\\left(\\mu,\\alpha\\right)$$ We can simply\n",
    "scale and offset samples from the *standard normal*."
   ]
  },
  {
   "cell_type": "code",
   "execution_count": null,
   "metadata": {},
   "outputs": [],
   "source": [
    "mu = 4 # mean of the distribution\n",
    "alpha = 2 # variance of the distribution\n",
    "w_vec = np.random.normal(size=200)*np.sqrt(alpha) + mu\n",
    "print('w sample mean is ', w_vec.mean())\n",
    "print('w sample variance is ', w_vec.var())"
   ]
  },
  {
   "cell_type": "markdown",
   "metadata": {},
   "source": [
    "Here the `np.sqrt` is necesssary because we need to multiply by the\n",
    "standard deviation and we specified the variance as `alpha`. So scaling\n",
    "and offsetting a Gaussian distributed variable keeps the variable\n",
    "Gaussian, but it effects the mean and variance of the resulting\n",
    "variable.\n",
    "\n",
    "To get an idea of the overall shape of the resulting distribution, let’s\n",
    "do the same thing with a histogram of the results."
   ]
  },
  {
   "cell_type": "code",
   "execution_count": null,
   "metadata": {},
   "outputs": [],
   "source": [
    "%matplotlib inline"
   ]
  },
  {
   "cell_type": "markdown",
   "metadata": {},
   "source": [
    "Now re-run this histogram with 100,000 samples and check that the both\n",
    "histograms look qualitatively Gaussian."
   ]
  },
  {
   "cell_type": "markdown",
   "metadata": {},
   "source": [
    "Sampling from the Prior\n",
    "-----------------------\n",
    "\n",
    "Let’s use this way of constructing samples from a Gaussian to check what\n",
    "functions look like *a priori*. The process will be as follows. First,\n",
    "we sample a random vector $K$ dimensional from `np.random.normal`. Then\n",
    "we scale it by $\\sqrt{\\alpha}$ to obtain a prior sample of\n",
    "$\\mathbf{ w}$."
   ]
  },
  {
   "cell_type": "code",
   "execution_count": null,
   "metadata": {},
   "outputs": [],
   "source": [
    "K = degree + 1\n",
    "z_vec = np.random.normal(size=K)\n",
    "w_sample = z_vec*np.sqrt(alpha)\n",
    "print(w_sample)"
   ]
  },
  {
   "cell_type": "markdown",
   "metadata": {},
   "source": [
    "Now we can combine our sample from the prior with the basis functions to\n",
    "create a function,\n",
    "\n",
    "This shows the recurring problem with the polynomial basis (note the\n",
    "scale on the left hand side!). Our prior allows relatively large\n",
    "coefficients for the basis associated with high polynomial degrees.\n",
    "Because we are operating with input values of around 2000, this leads to\n",
    "output functions of very high values. The fix we have used for this\n",
    "before is to rescale our data before we apply the polynomial basis to\n",
    "it. Above, we set the scale of the basis to 1. Here let’s set it to 100\n",
    "and try again."
   ]
  },
  {
   "cell_type": "code",
   "execution_count": null,
   "metadata": {},
   "outputs": [],
   "source": [
    "scale = 100.\n",
    "basis = mlai.Basis(polynomial, number=degree+1, loc=loc, scale=scale)\n",
    "Phi_pred = basis.Phi(x_pred)\n",
    "Phi = basis.Phi(x)"
   ]
  },
  {
   "cell_type": "markdown",
   "metadata": {},
   "source": [
    "Now we need to recompute the basis functions from above,\n",
    "\n",
    "Now let’s loop through some samples and plot various functions as\n",
    "samples from this system,\n",
    "\n",
    "The predictions for the mean output can now be computed. We want the\n",
    "expected value of the predictions under the posterior distribution. In\n",
    "matrix form, the predictions can be computed as $$\n",
    "\\mathbf{ f}= \\boldsymbol{ \\Phi}\\mathbf{ w}.\n",
    "$$ This involves a matrix multiplication between a fixed matrix\n",
    "$\\boldsymbol{ \\Phi}$ and a vector that is drawn from a distribution\n",
    "$\\mathbf{ w}$. Because $\\mathbf{ w}$ is drawn from a distribution, this\n",
    "imples that $\\mathbf{ f}$ should also be drawn from a distribution.\n",
    "There are two distributions we are interested in though. We have just\n",
    "been sampling from the *prior* distribution to see what sort of\n",
    "functions we get *before* looking at the data. In Bayesian inference, we\n",
    "need to computer the *posterior* distribution and sample from that\n",
    "density."
   ]
  },
  {
   "cell_type": "markdown",
   "metadata": {},
   "source": [
    "Computing the Posterior\n",
    "-----------------------\n",
    "\n",
    "We will now attampt to compute the *posterior distribution*. In the\n",
    "lecture we went through the maths that allows us to compute the\n",
    "posterior distribution for $\\mathbf{ w}$. This distribution is also\n",
    "Gaussian, $$\n",
    "p(\\mathbf{ w}| \\mathbf{ y}, \\mathbf{ x}, \\sigma^2) = \\mathcal{N}\\left(\\mathbf{ w}|\\boldsymbol{ \\mu}_w,\\mathbf{C}_w\\right)\n",
    "$$ with covariance, $\\mathbf{C}_w$, given by $$\n",
    "\\mathbf{C}_w= \\left(\\sigma^{-2}\\boldsymbol{ \\Phi}^\\top \\boldsymbol{ \\Phi}+ \\alpha^{-1}\\mathbf{I}\\right)^{-1}\n",
    "$$ whilst the mean is given by $$\n",
    "\\boldsymbol{ \\mu}_w= \\mathbf{C}_w\\sigma^{-2}\\boldsymbol{ \\Phi}^\\top \\mathbf{ y}\n",
    "$$ Let’s compute the posterior covariance and mean, then we’ll sample\n",
    "from these densities to have a look at the posterior belief about\n",
    "$\\mathbf{ w}$ once the data has been accounted for. Remember, the\n",
    "process of Bayesian inference involves combining the prior,\n",
    "$p(\\mathbf{ w})$ with the likelihood,\n",
    "$p(\\mathbf{ y}|\\mathbf{ x}, \\mathbf{ w})$ to form the posterior,\n",
    "$p(\\mathbf{ w}| \\mathbf{ y}, \\mathbf{ x})$ through Bayes’ rule, $$\n",
    "p(\\mathbf{ w}|\\mathbf{ y}, \\mathbf{ x}) = \\frac{p(\\mathbf{ y}|\\mathbf{ x}, \\mathbf{ w})p(\\mathbf{ w})}{p(\\mathbf{ y})}\n",
    "$$ We’ve looked at the samples for our function\n",
    "$\\mathbf{ f}= \\boldsymbol{ \\Phi}\\mathbf{ w}$, which forms the mean of\n",
    "the Gaussian likelihood, under the prior distribution. I.e. we’ve\n",
    "sampled from $p(\\mathbf{ w})$ and multiplied the result by the basis\n",
    "matrix. Now we will sample from the posterior density,\n",
    "$p(\\mathbf{ w}|\\mathbf{ y}, \\mathbf{ x})$, and check that the new\n",
    "samples fit do correspond to the data, i.e. we want to check that the\n",
    "updated distribution includes information from the data set. First we\n",
    "need to compute the posterior mean and *covariance*."
   ]
  },
  {
   "cell_type": "markdown",
   "metadata": {},
   "source": [
    "Bayesian Inference in the Univariate Case\n",
    "-----------------------------------------\n",
    "\n",
    "This video talks about Bayesian inference across the single parameter,\n",
    "the offset $c$, illustrating how the prior and the likelihood combine in\n",
    "one dimension to form a posterior."
   ]
  },
  {
   "cell_type": "code",
   "execution_count": null,
   "metadata": {},
   "outputs": [],
   "source": [
    "from IPython.lib.display import YouTubeVideo\n",
    "YouTubeVideo('AvlnFnvFw_0')"
   ]
  },
  {
   "cell_type": "markdown",
   "metadata": {},
   "source": [
    "Figure: <i>Univariate Bayesian inference. Lecture 10 from 2012 MLAI\n",
    "Course.</i>"
   ]
  },
  {
   "cell_type": "markdown",
   "metadata": {},
   "source": [
    "Multivariate Bayesian Inference\n",
    "-------------------------------\n",
    "\n",
    "This section of the lecture talks about how we extend the idea of\n",
    "Bayesian inference for the multivariate case. It goes through the\n",
    "multivariate Gaussian and how to complete the square in the linear\n",
    "algebra as we managed below."
   ]
  },
  {
   "cell_type": "code",
   "execution_count": null,
   "metadata": {},
   "outputs": [],
   "source": [
    "from IPython.lib.display import YouTubeVideo\n",
    "YouTubeVideo('Os1iqgpelPw')"
   ]
  },
  {
   "cell_type": "markdown",
   "metadata": {},
   "source": [
    "Figure: <i>Multivariate Bayesian inference. Lecture 11 from 2012 MLAI\n",
    "course.</i>\n",
    "\n",
    "The lecture informs us the the posterior density for $\\mathbf{ w}$ is\n",
    "given by a Gaussian density with covariance $$\n",
    "\\mathbf{C}_w = \\left(\\sigma^{-2}\\boldsymbol{ \\Phi}^\\top \\boldsymbol{ \\Phi}+ \\alpha^{-1}\\mathbf{I}\\right)^{-1}\n",
    "$$ and mean $$\n",
    "\\boldsymbol{ \\mu}_w = \\mathbf{C}_w\\sigma^{-2}\\boldsymbol{ \\Phi}^\\top \\mathbf{ y}.\n",
    "$$"
   ]
  },
  {
   "cell_type": "markdown",
   "metadata": {},
   "source": [
    "### Exercise 2\n",
    "\n",
    "Compute the covariance for $\\mathbf{ w}$ given the training data, call\n",
    "the resulting variable `w_cov`. Compute the mean for $\\mathbf{ w}$ given\n",
    "the training data. Call the resulting variable `w_mean`. Assume that\n",
    "$\\sigma^2 = 0.01$"
   ]
  },
  {
   "cell_type": "code",
   "execution_count": null,
   "metadata": {},
   "outputs": [],
   "source": [
    "# Write your answer to Exercise 2 here\n",
    "\n",
    "\n",
    "sigma2 = \n",
    "w_cov = \n",
    "w_mean = \n"
   ]
  },
  {
   "cell_type": "markdown",
   "metadata": {},
   "source": [
    "Olympic Marathon Data\n",
    "---------------------\n",
    "\n",
    "<table>\n",
    "<tr>\n",
    "<td width=\"70%\">\n",
    "\n",
    "-   Gold medal times for Olympic Marathon since 1896.\n",
    "-   Marathons before 1924 didn’t have a standardised distance.\n",
    "-   Present results using pace per km.\n",
    "-   In 1904 Marathon was badly organised leading to very slow times.\n",
    "\n",
    "</td>\n",
    "<td width=\"30%\">\n",
    "\n",
    "<img class=\"\" src=\"http://inverseprobability.com/talks/slides/../slides/diagrams/Stephen_Kiprotich.jpg\" style=\"width:100%\">\n",
    "<small>Image from Wikimedia Commons\n",
    "<a href=\"http://bit.ly/16kMKHQ\" class=\"uri\">http://bit.ly/16kMKHQ</a></small>\n",
    "\n",
    "</td>\n",
    "</tr>\n",
    "</table>\n",
    "\n",
    "The first thing we will do is load a standard data set for regression\n",
    "modelling. The data consists of the pace of Olympic Gold Medal Marathon\n",
    "winners for the Olympics from 1896 to present. First we load in the data\n",
    "and plot."
   ]
  },
  {
   "cell_type": "code",
   "execution_count": null,
   "metadata": {},
   "outputs": [],
   "source": [
    "%pip install --upgrade git+https://github.com/sods/ods"
   ]
  },
  {
   "cell_type": "code",
   "execution_count": null,
   "metadata": {},
   "outputs": [],
   "source": [
    "import numpy as np\n",
    "import pods"
   ]
  },
  {
   "cell_type": "code",
   "execution_count": null,
   "metadata": {},
   "outputs": [],
   "source": [
    "data = pods.datasets.olympic_marathon_men()\n",
    "x = data['X']\n",
    "y = data['Y']\n",
    "\n",
    "offset = y.mean()\n",
    "scale = np.sqrt(y.var())"
   ]
  },
  {
   "cell_type": "code",
   "execution_count": null,
   "metadata": {},
   "outputs": [],
   "source": [
    "import matplotlib.pyplot as plt\n",
    "import teaching_plots as plot\n",
    "import mlai"
   ]
  },
  {
   "cell_type": "code",
   "execution_count": null,
   "metadata": {},
   "outputs": [],
   "source": [
    "xlim = (1875,2030)\n",
    "ylim = (2.5, 6.5)\n",
    "yhat = (y-offset)/scale\n",
    "\n",
    "fig, ax = plt.subplots(figsize=plot.big_wide_figsize)\n",
    "_ = ax.plot(x, y, 'r.',markersize=10)\n",
    "ax.set_xlabel('year', fontsize=20)\n",
    "ax.set_ylabel('pace min/km', fontsize=20)\n",
    "ax.set_xlim(xlim)\n",
    "ax.set_ylim(ylim)\n",
    "\n",
    "mlai.write_figure(figure=fig, \n",
    "                  filename='./datasets/olympic-marathon.svg', \n",
    "                  transparent=True, \n",
    "                  frameon=True)"
   ]
  },
  {
   "cell_type": "markdown",
   "metadata": {},
   "source": [
    "<img src=\"http://inverseprobability.com/talks/slides/../slides/diagrams/datasets/olympic-marathon.svg\" class=\"\" width=\"\" style=\"vertical-align:middle;\">\n",
    "\n",
    "Figure: <i>Olympic marathon pace times since 1892.</i>\n",
    "\n",
    "Things to notice about the data include the outlier in 1904, in this\n",
    "year, the olympics was in St Louis, USA. Organizational problems and\n",
    "challenges with dust kicked up by the cars following the race meant that\n",
    "participants got lost, and only very few participants completed.\n",
    "\n",
    "More recent years see more consistently quick marathons."
   ]
  },
  {
   "cell_type": "markdown",
   "metadata": {},
   "source": [
    "Olympic Data with Bayesian Polynomials\n",
    "--------------------------------------\n",
    "\n",
    "Five fold cross validation tests the ability of the model to\n",
    "*interpolate*."
   ]
  },
  {
   "cell_type": "code",
   "execution_count": null,
   "metadata": {},
   "outputs": [],
   "source": [
    "import mlai\n",
    "import pods"
   ]
  },
  {
   "cell_type": "code",
   "execution_count": null,
   "metadata": {},
   "outputs": [],
   "source": [
    "import pods\n",
    "from ipywidgets import IntSlider"
   ]
  },
  {
   "cell_type": "code",
   "execution_count": null,
   "metadata": {},
   "outputs": [],
   "source": [
    "pods.notebook.display_plots('olympic_BLM_polynomial_number{num_basis:0>3}.svg', \n",
    "                            directory='./ml/', \n",
    "                            num_basis=IntSlider(1, 1, 27, 1))"
   ]
  },
  {
   "cell_type": "markdown",
   "metadata": {},
   "source": [
    "<img src=\"http://inverseprobability.com/talks/slides/../slides/diagrams/ml/olympic_BLM_polynomial_number026.svg\" class=\"\" width=\"80%\" style=\"vertical-align:middle;\">\n",
    "\n",
    "Figure: <i>Bayesian fit with 26th degree polynomial and negative\n",
    "marginal log likelihood.</i>"
   ]
  },
  {
   "cell_type": "markdown",
   "metadata": {},
   "source": [
    "Hold Out Validation\n",
    "-------------------\n",
    "\n",
    "For the polynomial fit, we will now look at *hold out* validation, where\n",
    "we are holding out some of the most recent points. This tests the abilit\n",
    "of our model to *extrapolate*."
   ]
  },
  {
   "cell_type": "code",
   "execution_count": null,
   "metadata": {},
   "outputs": [],
   "source": [
    "import pods\n",
    "from ipywidgets import IntSlider"
   ]
  },
  {
   "cell_type": "code",
   "execution_count": null,
   "metadata": {},
   "outputs": [],
   "source": [
    "pods.notebook.display_plots('olympic_val_BLM_polynomial_number{num_basis:0>3}.svg', \n",
    "                            directory='./ml', \n",
    "                            num_basis=IntSlider(1, 1, 27, 1))"
   ]
  },
  {
   "cell_type": "markdown",
   "metadata": {},
   "source": [
    "<img src=\"http://inverseprobability.com/talks/slides/../slides/diagrams/ml/olympic_val_BLM_polynomial_number026.svg\" class=\"\" width=\"80%\" style=\"vertical-align:middle;\">\n",
    "\n",
    "Figure: <i>Bayesian fit with 26th degree polynomial and hold out\n",
    "validation scores.</i>"
   ]
  },
  {
   "cell_type": "markdown",
   "metadata": {},
   "source": [
    "5-fold Cross Validation\n",
    "-----------------------\n",
    "\n",
    "Five fold cross validation tests the ability of the model to\n",
    "*interpolate*."
   ]
  },
  {
   "cell_type": "code",
   "execution_count": null,
   "metadata": {},
   "outputs": [],
   "source": [
    "import pods\n",
    "from ipywidgets import IntSlider"
   ]
  },
  {
   "cell_type": "code",
   "execution_count": null,
   "metadata": {},
   "outputs": [],
   "source": [
    "pods.notebook.display_plots('olympic_5cv{part:0>2}_BLM_polynomial_number{num_basis:0>3}.svg', \n",
    "                            directory='./ml', \n",
    "                            part=(0, 5), \n",
    "                            num_basis=IntSlider(1, 1, 27, 1))"
   ]
  },
  {
   "cell_type": "markdown",
   "metadata": {},
   "source": [
    "<img src=\"http://inverseprobability.com/talks/slides/../slides/diagrams/ml/olympic_5cv05_BLM_polynomial_number026.svg\" class=\"\" width=\"80%\" style=\"vertical-align:middle;\">\n",
    "\n",
    "Figure: <i>Bayesian fit with 26th degree polynomial and five fold cross\n",
    "validation scores.</i>"
   ]
  },
  {
   "cell_type": "markdown",
   "metadata": {},
   "source": [
    "Sampling from the Posterior\n",
    "---------------------------\n",
    "\n",
    "Before we were able to sample the prior values for the mean\n",
    "*independently* from a Gaussian using `np.random.normal` and scaling the\n",
    "result. However, observing the data *correlates* the parameters. Recall\n",
    "this from the first lab where we had a correlation between the offset,\n",
    "$c$ and the slope $m$ which caused such problems with the coordinate\n",
    "ascent algorithm. We need to sample from a *correlated* Gaussian. For\n",
    "this we can use `np.random.multivariate_normal`.\n",
    "\n",
    "Now let’s sample several functions and plot them all to see how the\n",
    "predictions fluctuate.\n",
    "\n",
    "This gives us an idea of what our predictions are. These are the\n",
    "predictions that are consistent with data and our prior. Try plotting\n",
    "different numbers of predictions. You can also try plotting beyond the\n",
    "range of where the data is and see what the functions do there.\n",
    "\n",
    "Rather than sampling from the posterior each time to compute our\n",
    "predictions, it might be better if we just summarised the predictions by\n",
    "the expected value of the output funciton, $f(x)$, for any particular\n",
    "input. If we can get formulae for this we don’t need to sample the\n",
    "values of $f(x)$ we might be able to compute the distribution directly.\n",
    "Fortunately, in the Gaussian case, we can use properties of multivariate\n",
    "Gaussians to compute both the mean and the variance of these samples."
   ]
  },
  {
   "cell_type": "markdown",
   "metadata": {},
   "source": [
    "Properties of Gaussian Variables\n",
    "--------------------------------\n",
    "\n",
    "Gaussian variables have very particular properties, that many other\n",
    "densities don’t exhibit. Perhaps foremost amoungst them is that the sum\n",
    "of any Gaussian distributed set of random variables also turns out to be\n",
    "Gaussian distributed. This property is much rarer than you might expect."
   ]
  },
  {
   "cell_type": "markdown",
   "metadata": {},
   "source": [
    "Sum of Gaussian-distributed Variables\n",
    "-------------------------------------\n",
    "\n",
    "The sum of Gaussian random variables is also Gaussian, so if we have a\n",
    "random variable $y_i$ drawn from a Gaussian density with mean $\\mu_i$\n",
    "and variance $\\sigma^2_i$, $$\n",
    "y_i \\sim \\mathcal{N}\\left(\\mu_i,\\sigma^2_i\\right)\n",
    "$$ Then the sum of $K$ independently sampled values of $y_i$ will be\n",
    "drawn from a Gaussian with mean $\\sum_{i=1}^K \\mu_i$ and variance\n",
    "$\\sum_{i=1}^K \\sigma_i^2$, $$\n",
    "\\sum_{i=1}^K y_i \\sim \\mathcal{N}\\left(\\sum_{i=1}^K \\mu_i,\\sum_{i=1}^K \\sigma_i^2\\right).\n",
    "$$ Let’s try that experimentally. First let’s generate a vector of\n",
    "samples from a standard normal distribution,\n",
    "$z \\sim \\mathcal{N}\\left(0,1\\right)$, then we will scale and offset\n",
    "them, then keep adding them into a vector `y_vec`."
   ]
  },
  {
   "cell_type": "markdown",
   "metadata": {},
   "source": [
    "Sampling from Gaussians and Summing Up\n",
    "--------------------------------------"
   ]
  },
  {
   "cell_type": "code",
   "execution_count": null,
   "metadata": {},
   "outputs": [],
   "source": [
    "K = 10 # how many Gaussians to add.\n",
    "num_samples = 1000 # how many samples to have in y_vec\n",
    "mus = np.linspace(0, 5, K) # mean values generated linearly spaced between 0 and 5\n",
    "sigmas = np.linspace(0.5, 2, K) # sigmas generated linearly spaced between 0.5 and 2\n",
    "y_vec = np.zeros(num_samples)\n",
    "for mu, sigma in zip(mus, sigmas):\n",
    "    z_vec = np.random.normal(size=num_samples) # z is from standard normal\n",
    "    y_vec += z_vec*sigma + mu # add to y z*sigma + mu\n",
    "\n",
    "# now y_vec is the sum of each scaled and off set z.\n",
    "print('Sample mean is ', y_vec.mean(), ' and sample variance is ', y_vec.var())\n",
    "print('True mean should be ', mus.sum())\n",
    "print('True variance should be ', (sigmas**2).sum(), ' standard deviation ', np.sqrt((sigmas**2).sum())) "
   ]
  },
  {
   "cell_type": "markdown",
   "metadata": {},
   "source": [
    "Of course, we can histogram `y_vec` as well."
   ]
  },
  {
   "cell_type": "markdown",
   "metadata": {},
   "source": [
    "Matrix Multiplication of Gaussian Variables\n",
    "-------------------------------------------\n",
    "\n",
    "We are interested in what our model is saying about the sort of\n",
    "functions we are observing. The fact that summing of Gaussian variables\n",
    "leads to new Gaussian variables, and scaling of Gaussian variables\n",
    "*also* leads to Gaussian variables means that matrix multiplication\n",
    "(which is just a series of sums and scales) also leads to Gaussian\n",
    "densities. Matrix multiplication is just adding and scaling together, in\n",
    "the formula, $\\mathbf{ f}= \\boldsymbol{ \\Phi}\\mathbf{ w}$ we can extract\n",
    "the first element from $\\mathbf{ f}$ as $$\n",
    "f_i = \\boldsymbol{ \\phi}_i^\\top \\mathbf{ w}\n",
    "$$ where $\\boldsymbol{ \\phi}$ is a column vector from the $i$th row of\n",
    "$\\boldsymbol{ \\Phi}$ and $f_i$ is the $i$th element of\n",
    "$\\mathbf{ f}$.This vector inner product itself merely implies that $$\n",
    "f_i = \\sum_{j=1}^K w_j \\phi_{i, j}\n",
    "$$ and if we now say that $w_i$ is Gaussian distributed, then because a\n",
    "scaled Gaussian is also Gaussian, and because a sum of Gaussians is also\n",
    "Gaussian, we know that $f_i$ is also Gaussian distributed. It merely\n",
    "remains to work out its mean and covariance. We can do this by looking\n",
    "at the expectation under a Gaussian distribution. The expectation of the\n",
    "mean vector is given by $$\n",
    "\\left<\\mathbf{ f}\\right>_{\\mathcal{N}\\left(\\mathbf{ w}|\\boldsymbol{ \\mu},\\mathbf{C}\\right)} = \\int \\mathbf{ f}\n",
    "\\mathcal{N}\\left(\\mathbf{ w}|\\boldsymbol{ \\mu},\\mathbf{C}\\right)\n",
    "\\text{d}\\mathbf{ w}= \\int \\boldsymbol{ \\Phi}\\mathbf{ w}\n",
    "\\mathcal{N}\\left(\\mathbf{ w}|\\boldsymbol{ \\mu},\\mathbf{C}\\right)\n",
    "\\text{d}\\mathbf{ w}= \\boldsymbol{ \\Phi}\\int \\mathbf{ w}\n",
    "\\mathcal{N}\\left(\\mathbf{ w}|\\boldsymbol{ \\mu},\\mathbf{C}\\right)\n",
    "\\text{d}\\mathbf{ w}= \\boldsymbol{ \\Phi}\\boldsymbol{ \\mu}\n",
    "$$\n",
    "\n",
    "Which is straightforward. The expectation of\n",
    "$\\mathbf{ f}=\\boldsymbol{ \\Phi}\\mathbf{ w}$ under the Gaussian\n",
    "distribution for $\\mathbf{ f}$ is simply\n",
    "$\\mathbf{ f}=\\boldsymbol{ \\Phi}\\boldsymbol{ \\mu}$, where\n",
    "$\\boldsymbol{ \\mu}$ is the *mean* of the Gaussian density for\n",
    "$\\mathbf{ w}$. Because our prior distribution was Gaussian with zero\n",
    "mean, the expectation under the prior is given by $$\n",
    "\\left<\\mathbf{ f}\\right>_{\\mathcal{N}\\left(\\mathbf{ w}|\\mathbf{0},\\alpha\\mathbf{I}\\right)} = \\mathbf{0}\n",
    "$$\n",
    "\n",
    "The covariance is a little more complicated. A covariance matrix is\n",
    "defined as $$\n",
    "\\text{cov}\\left(\\mathbf{ f}\\right)_{\\mathcal{N}\\left(\\mathbf{ w}|\\boldsymbol{ \\mu},\\mathbf{C}\\right)}\n",
    "= \\left<\\mathbf{ f}\\mathbf{ f}^\\top\\right>_{\\mathcal{N}\\left(\\mathbf{ w}|\\boldsymbol{ \\mu},\\mathbf{C}\\right)}\n",
    "- \\left<\\mathbf{ f}\\right>_{\\mathcal{N}\\left(\\mathbf{ w}|\\boldsymbol{ \\mu},\\mathbf{C}\\right)}\\left<\\mathbf{ f}\\right>_{\\mathcal{N}\\left(\\mathbf{ w}|\\boldsymbol{ \\mu},\\mathbf{C}\\right)}^\\top\n",
    "$$ we’ve already computed\n",
    "$\\left<\\mathbf{ f}\\right>_{\\mathcal{N}\\left(\\mathbf{ w}|\\boldsymbol{ \\mu},\\mathbf{C}\\right)}=\\boldsymbol{ \\Phi}\\boldsymbol{ \\mu}$\n",
    "so we can substitute that in to recover $$\n",
    "\\text{cov}\\left(\\mathbf{ f}\\right)_{\\mathcal{N}\\left(\\mathbf{ w}|\\boldsymbol{ \\mu},\\mathbf{C}\\right)} = \\left<\\mathbf{ f}\\mathbf{ f}^\\top\\right>_{\\mathcal{N}\\left(\\mathbf{ w}|\\boldsymbol{ \\mu},\\mathbf{C}\\right)} - \\boldsymbol{ \\Phi}\\boldsymbol{ \\mu}\\boldsymbol{ \\mu}^\\top \\boldsymbol{ \\Phi}^\\top\n",
    "$$\n",
    "\n",
    "So we need the expectation of $\\mathbf{ f}\\mathbf{ f}^\\top$.\n",
    "Substituting in $\\mathbf{ f}= \\boldsymbol{ \\Phi}\\mathbf{ w}$ we have $$\n",
    "\\text{cov}\\left(\\mathbf{ f}\\right)_{\\mathcal{N}\\left(\\mathbf{ w}|\\boldsymbol{ \\mu},\\mathbf{C}\\right)} = \\left<\\boldsymbol{ \\Phi}\\mathbf{ w}\\mathbf{ w}^\\top \\boldsymbol{ \\Phi}^\\top\\right>_{\\mathcal{N}\\left(\\mathbf{ w}|\\boldsymbol{ \\mu},\\mathbf{C}\\right)} - \\boldsymbol{ \\Phi}\\boldsymbol{ \\mu}\\boldsymbol{ \\mu}^\\top \\boldsymbol{ \\Phi}^\\top\n",
    "$$ $$\n",
    "\\text{cov}\\left(\\mathbf{ f}\\right)_{\\mathcal{N}\\left(\\mathbf{ w}|\\boldsymbol{ \\mu},\\mathbf{C}\\right)} = \\boldsymbol{ \\Phi}\\left<\\mathbf{ w}\\mathbf{ w}^\\top\\right>_{\\mathcal{N}\\left(\\mathbf{ w}|\\boldsymbol{ \\mu},\\mathbf{C}\\right)} \\boldsymbol{ \\Phi}^\\top - \\boldsymbol{ \\Phi}\\boldsymbol{ \\mu}\\boldsymbol{ \\mu}^\\top\\boldsymbol{ \\Phi}^\\top\n",
    "$$ Which is dependent on the second moment of the Gaussian, $$\n",
    "\\left<\\mathbf{ w}\\mathbf{ w}^\\top\\right>_{\\mathcal{N}\\left(\\mathbf{ w}|\\boldsymbol{ \\mu},\\mathbf{C}\\right)} = \\mathbf{C}+ \\boldsymbol{ \\mu}\\boldsymbol{ \\mu}^\\top\n",
    "$$ that can be substituted in to recover, $$\n",
    "\\text{cov}\\left(\\mathbf{ f}\\right)_{\\mathcal{N}\\left(\\mathbf{ w}|\\boldsymbol{ \\mu},\\mathbf{C}\\right)} = \\boldsymbol{ \\Phi}\\mathbf{C}\\boldsymbol{ \\Phi}^\\top\n",
    "$$ so in the case of the prior distribution, where we have\n",
    "$\\mathbf{C}= \\alpha \\mathbf{I}$ we can write $$\n",
    "\\text{cov}\\left(\\mathbf{ f}\\right)_{\\mathcal{N}\\left(\\mathbf{ w}|\\mathbf{0},\\alpha \\mathbf{I}\\right)} = \\alpha \\boldsymbol{ \\Phi}\\boldsymbol{ \\Phi}^\\top\n",
    "$$\n",
    "\n",
    "This implies that the prior we have suggested for $\\mathbf{ w}$, which\n",
    "is Gaussian with a mean of zero and covariance of $\\alpha \\mathbf{I}$\n",
    "suggests that the distribution for $\\mathbf{ w}$ is also Gaussian with a\n",
    "mean of zero and covariance of\n",
    "$\\alpha \\boldsymbol{ \\Phi}\\boldsymbol{ \\Phi}^\\top$. Since our observed\n",
    "output, $\\mathbf{ y}$, is given by a noise corrupted variation of\n",
    "$\\mathbf{ f}$, the final distribution for $\\mathbf{ y}$ is given as $$\n",
    "\\mathbf{ y}= \\mathbf{ f}+ \\boldsymbol{ \\epsilon}\n",
    "$$ where the noise, $\\boldsymbol{ \\epsilon}$, is sampled from a Gaussian\n",
    "density:\n",
    "$\\boldsymbol{ \\epsilon}\\sim \\mathcal{N}\\left(\\mathbf{0},\\sigma^2\\mathbf{I}\\right)$.\n",
    "So, in other words, we are taking a Gaussian distributed random value\n",
    "$\\mathbf{ f}$, $$\n",
    "\\mathbf{ f}\\sim \\mathcal{N}\\left(\\mathbf{0},\\alpha\\boldsymbol{ \\Phi}\\boldsymbol{ \\Phi}^\\top\\right)\n",
    "$$ and adding to it another Gaussian distributed value,\n",
    "$\\boldsymbol{ \\epsilon}\\sim \\mathcal{N}\\left(\\mathbf{0},\\sigma^2\\mathbf{I}\\right)$,\n",
    "to form our data observations, $\\mathbf{ y}$. Once again the sum of two\n",
    "(multivariate) Gaussian distributed variables is also Gaussian, with a\n",
    "mean given by the sum of the means (both zero in this case) and the\n",
    "covariance given by the sum of the covariances. So we now have that the\n",
    "marginal likelihood for the data, $p(\\mathbf{ y})$ is given by $$\n",
    "p(\\mathbf{ y}) = \\mathcal{N}\\left(\\mathbf{ y}|\\mathbf{0},\\alpha \\boldsymbol{ \\Phi}\\boldsymbol{ \\Phi}^\\top + \\sigma^2\\mathbf{I}\\right)\n",
    "$$ This is our *implicit* assumption for $\\mathbf{ y}$ given our prior\n",
    "assumption for $\\mathbf{ w}$."
   ]
  },
  {
   "cell_type": "markdown",
   "metadata": {},
   "source": [
    "Marginal Likelihood\n",
    "-------------------\n",
    "\n",
    "-   The marginal likelihood can also be computed, it has the form: $$\n",
    "    p(\\mathbf{ y}|\\mathbf{X}, \\sigma^2, \\alpha) = \\frac{1}{(2\\pi)^\\frac{n}{2}\\left|\\mathbf{K}\\right|^\\frac{1}{2}} \\exp\\left(-\\frac{1}{2} \\mathbf{ y}^\\top \\mathbf{K}^{-1} \\mathbf{ y}\\right)\n",
    "    $$ where\n",
    "    $\\mathbf{K}= \\alpha \\boldsymbol{ \\Phi}\\boldsymbol{ \\Phi}^\\top + \\sigma^2 \\mathbf{I}$.\n",
    "\n",
    "-   So it is a zero mean $n$-dimensional Gaussian with covariance matrix\n",
    "    $\\mathbf{K}$."
   ]
  },
  {
   "cell_type": "markdown",
   "metadata": {},
   "source": [
    "Computing the Mean and Error Bars of the Functions\n",
    "--------------------------------------------------\n",
    "\n",
    "These ideas together, now allow us to compute the mean and error bars of\n",
    "the predictions. The mean prediction, before corrupting by noise is\n",
    "given by, $$\n",
    "\\mathbf{ f}= \\boldsymbol{ \\Phi}\\mathbf{ w}\n",
    "$$ in matrix form. This gives you enough information to compute the\n",
    "predictive mean."
   ]
  },
  {
   "cell_type": "markdown",
   "metadata": {},
   "source": [
    "### Exercise 3\n",
    "\n",
    "Compute the predictive mean for the function at all the values of the\n",
    "basis function given by `Phi_pred`. Call the vector of predictions\n",
    "`\\mappingFunction_pred_mean`. Plot the predictions alongside the data.\n",
    "We can also compute what the training error was. Use the output from\n",
    "your model to compute the predictive mean, and then compute the sum of\n",
    "squares error of that predictive mean. $$\n",
    "E = \\sum_{i=1}^n(y_i - \\langle f_i\\rangle)^2\n",
    "$$ where $\\langle f_i\\rangle$ is the expected output of the model at\n",
    "point $x_i$."
   ]
  },
  {
   "cell_type": "code",
   "execution_count": null,
   "metadata": {},
   "outputs": [],
   "source": [
    "# Write your answer to Exercise 3 here\n",
    "\n",
    "\n",
    "# compute mean under posterior density\n",
    "f_pred_mean = \n",
    "\n",
    "# plot the predictions\n",
    "\n",
    "# compute mean at the training data and sum of squares error\n",
    "f_mean = \n",
    "sum_squares = \n",
    "print('The error is: ', sum_squares)"
   ]
  },
  {
   "cell_type": "markdown",
   "metadata": {},
   "source": [
    "Computing Error Bars\n",
    "--------------------\n",
    "\n",
    "Finally, we can compute error bars for the predictions. The error bars\n",
    "are the standard deviations of the predictions for\n",
    "$\\mathbf{ f}=\\boldsymbol{ \\Phi}\\mathbf{ w}$ under the posterior density\n",
    "for $\\mathbf{ w}$. The standard deviations of these predictions can be\n",
    "found from the variance of the prediction at each point. Those variances\n",
    "are the diagonal entries of the covariance matrix. We’ve already\n",
    "computed the form of the covariance under Gaussian expectations, $$\n",
    "\\text{cov}\\left(\\mathbf{ f}\\right)_{\\mathcal{N}\\left(\\mathbf{ w}|\\boldsymbol{ \\mu},\\mathbf{C}\\right)} = \\boldsymbol{ \\Phi}\\mathbf{C}\\boldsymbol{ \\Phi}^\\top\n",
    "$$ which under the posterior density is given by $$\n",
    "\\text{cov}\\left(\\mathbf{ f}\\right)_{\\mathcal{N}\\left(\\mathbf{ w}|\\boldsymbol{ \\mu}_w,\\mathbf{C}_w\\right)} = \\boldsymbol{ \\Phi}\\mathbf{C}_w \\boldsymbol{ \\Phi}^\\top\n",
    "$$"
   ]
  },
  {
   "cell_type": "markdown",
   "metadata": {},
   "source": [
    "### Exercise 4\n",
    "\n",
    "The error bars are given by computing the standard deviation of the\n",
    "predictions, $f$. For a given prediction $f_i$ the variance is\n",
    "$\\text{var}(f_i) = \\langle f_i^2\\rangle - \\langle f_i \\rangle^2$. This\n",
    "is given by the diagonal element of the covariance of $\\mathbf{ f}$, $$\n",
    "\\text{var}(f_i) =\n",
    "\\boldsymbol{ \\phi}_{i, :}^\\top \\mathbf{C}_w \\boldsymbol{ \\phi}_{i, :}\n",
    "$$ where $\\boldsymbol{ \\phi}_{i, :}$ is the basis vector associated with\n",
    "the input location, $\\mathbf{ x}_i$.\n",
    "\n",
    "Plot the mean function and the error bars for your basis."
   ]
  },
  {
   "cell_type": "code",
   "execution_count": null,
   "metadata": {},
   "outputs": [],
   "source": [
    "# Write your answer to Exercise 4 here\n",
    "\n",
    "\n",
    "# Compute variance at function values\n",
    "f_pred_var = \n",
    "f_pred_std = \n",
    "\n",
    "# plot the mean and error bars at 2 standard deviations above and below the mean"
   ]
  },
  {
   "cell_type": "markdown",
   "metadata": {},
   "source": [
    "Validation\n",
    "----------\n",
    "\n",
    "Now we will test the generalisation ability of these models. Firstly we\n",
    "are going to use hold out validation to attempt to see which model is\n",
    "best for extrapolating."
   ]
  },
  {
   "cell_type": "markdown",
   "metadata": {},
   "source": [
    "### Exercise 5\n",
    "\n",
    "Now split the data into training and *hold out* validation sets. Hold\n",
    "out the data for years after 1980. Compute the predictions for different\n",
    "model orders between 0 and 8. Find the model order which fits best\n",
    "according to *hold out* validation. Is it the same as the maximum\n",
    "likelihood result fom last week?"
   ]
  },
  {
   "cell_type": "code",
   "execution_count": null,
   "metadata": {},
   "outputs": [],
   "source": [
    "# Write your answer to Exercise 5 here\n",
    "\n",
    "\n"
   ]
  },
  {
   "cell_type": "markdown",
   "metadata": {},
   "source": [
    "### Exercise 6\n",
    "\n",
    "Now we will use leave one out cross validation to attempt to see which\n",
    "model is best at interpolating. Do you get the same result as for hold\n",
    "out validation? Compare plots of the hold out validation area for\n",
    "different degrees and the cross validation error for different degrees.\n",
    "Why are they so different? Select a suitable polynomial for\n",
    "characterising the differences in the predictions. Plot the mean\n",
    "function and the error bars for the full data set (to represent the\n",
    "leave one out solution) and the training data from the hold out\n",
    "experiment. Discuss your answer."
   ]
  },
  {
   "cell_type": "code",
   "execution_count": null,
   "metadata": {},
   "outputs": [],
   "source": [
    "# Write your answer to Exercise 6 here\n",
    "\n",
    "\n"
   ]
  },
  {
   "cell_type": "markdown",
   "metadata": {},
   "source": [
    "Further Reading\n",
    "---------------\n",
    "\n",
    "-   Section 3.7–3.8 (pg 122–133) of Rogers and Girolami (2011)\n",
    "\n",
    "-   Section 3.4 (pg 161–165) of Bishop (2006)"
   ]
  },
  {
   "cell_type": "markdown",
   "metadata": {},
   "source": [
    "Thanks!\n",
    "-------\n",
    "\n",
    "For more information on these subjects and more you might want to check\n",
    "the following resources.\n",
    "\n",
    "-   twitter: [@lawrennd](https://twitter.com/lawrennd)\n",
    "-   podcast: [The Talking Machines](http://thetalkingmachines.com)\n",
    "-   newspaper: [Guardian Profile\n",
    "    Page](http://www.theguardian.com/profile/neil-lawrence)\n",
    "-   blog:\n",
    "    [http://inverseprobability.com](http://inverseprobability.com/blog.html)"
   ]
  },
  {
   "cell_type": "markdown",
   "metadata": {},
   "source": [
    "References\n",
    "----------"
   ]
  },
  {
   "cell_type": "markdown",
   "metadata": {},
   "source": [
    "Bishop, C.M., 2006. Pattern recognition and machine learning. springer.\n",
    "\n",
    "Gauss, C.F., 1809. Theoria motus corporum coelestium in sectionibus\n",
    "conicis solem ambientium. F. Perthes und I. H. Besser, Hamburg.\n",
    "\n",
    "Rogers, S., Girolami, M., 2011. A first course in machine learning. CRC\n",
    "Press.\n",
    "\n",
    "Stigler, S.M., 1999. Statistics on the table: The history of statistical\n",
    "concepts and methods. harvard, Cambridge, MA."
   ]
  }
 ],
 "nbformat": 4,
 "nbformat_minor": 5,
 "metadata": {}
}
