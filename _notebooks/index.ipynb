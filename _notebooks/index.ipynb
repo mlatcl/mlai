{
 "cells": [
  {
   "cell_type": "markdown",
   "metadata": {},
   "source": [
    "# Machine Learning and Adaptive Intelligence \n",
    "\n",
    "## Neil D. Lawrence\n",
    "\n",
    "* For lab classes from 2013-14 please see [here](https://github.com/lawrennd/mlai2013/blob/master/index.ipynb)\n",
    "* For lab classes from 2014-15 please see [here](https://github.com/lawrennd/mlai2014/blob/master/index.ipynb)\n",
    "\n",
    "The lecture notes will are given in the form of Jupyter Notebooks and are available below. \n",
    "\n",
    "* **Session 1** Probability and an Introduction to the Jupyter Notebook, python and Pandas. \n",
    "  * [Notes](./week1.ipynb) \n",
    "  * [Slides](./slides/s1_probability.ipynb)   \n",
    "* **Session 2** Objective Functions and Supervised Learning\n",
    "  * [Notes](./week2.ipynb) \n",
    "  * [Slides](./slides/s2_objective.ipynb)   \n",
    "    \n",
    "* **Session 3** Linear Algebra and Linear Regression\n",
    "  * [Notes](./week3.ipynb) \n",
    "  * [Slides](./slides/s3_regression.ipynb)   \n",
    "\n",
    "* **Session 4** Basis Functions\n",
    "  * [Notes](./week4.ipynb) \n",
    "  * [Slides](./slides/s4_basisFunctions.ipynb)   \n",
    "\n",
    "* **Session 5** Model checking: training, testing and validation\n",
    "  * [Notes](./week5.ipynb) \n",
    "  * [Slides](./slides/s5_generalisation.ipynb)   \n",
    "\n",
    "* **Session 6** Bayesian Regression\n",
    "  * [Notes](./week6.ipynb) \n",
    "  * [Slides](./slides/s6_bayesianRegression.ipynb)   \n",
    "\n",
    "* **Session 7** Unsupervised Learning\n",
    "  * [Notes](./week8.ipynb) \n",
    "  * [Slides](./slides/s7_unsupervisedLearning.ipynb)   \n",
    "\n",
    "* **Session 8** Probabilistic Classification \n",
    "  * [Notes](./week9.ipynb) \n",
    "  * [Slides](./slides/s8_naiveBayes.ipynb)   \n",
    "\n",
    "* **Session 9** Logistic Regression and Generalised Linear Models\n",
    "  * [Notes](./week10.ipynb) \n",
    "  * [Slides](./slides/s9_logisticAndGlm.ipynb)   \n",
    "\n",
    "* **Special Topic A** Gaussian Processes\n",
    "  * [Notes](./week12.ipynb) \n",
    "  * [Slides](./slides/sta_gaussianProcesses.ipynb)   \n"
   ]
  },
  {
   "cell_type": "code",
   "execution_count": null,
   "metadata": {
    "collapsed": false
   },
   "outputs": [],
   "source": []
  }
 ],
 "metadata": {
  "kernelspec": {
   "display_name": "Python 3",
   "language": "python",
   "name": "python3"
  },
  "language_info": {
   "codemirror_mode": {
    "name": "ipython",
    "version": 3
   },
   "file_extension": ".py",
   "mimetype": "text/x-python",
   "name": "python",
   "nbconvert_exporter": "python",
   "pygments_lexer": "ipython3",
   "version": "3.4.4"
  }
 },
 "nbformat": 4,
 "nbformat_minor": 0
}
